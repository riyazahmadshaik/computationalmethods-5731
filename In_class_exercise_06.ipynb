{
  "nbformat": 4,
  "nbformat_minor": 0,
  "metadata": {
    "colab": {
      "name": "In_class_exercise_06.ipynb",
      "provenance": [],
      "collapsed_sections": [],
      "toc_visible": true,
      "include_colab_link": true
    },
    "kernelspec": {
      "display_name": "Python 3",
      "language": "python",
      "name": "python3"
    },
    "language_info": {
      "codemirror_mode": {
        "name": "ipython",
        "version": 3
      },
      "file_extension": ".py",
      "mimetype": "text/x-python",
      "name": "python",
      "nbconvert_exporter": "python",
      "pygments_lexer": "ipython3",
      "version": "3.7.4"
    }
  },
  "cells": [
    {
      "cell_type": "markdown",
      "metadata": {
        "id": "view-in-github",
        "colab_type": "text"
      },
      "source": [
        "<a href=\"https://colab.research.google.com/github/riyazahmadshaik/computationalmethods-5731/blob/master/In_class_exercise_06.ipynb\" target=\"_parent\"><img src=\"https://colab.research.google.com/assets/colab-badge.svg\" alt=\"Open In Colab\"/></a>"
      ]
    },
    {
      "cell_type": "markdown",
      "metadata": {
        "id": "z7TahL04sVvR"
      },
      "source": [
        "# **The sixth in-class-exercise (20 points in total, 10/14/2020)**"
      ]
    },
    {
      "cell_type": "markdown",
      "metadata": {
        "id": "ejyZITr8sjnh"
      },
      "source": [
        "## **1. Rule-based information extraction (10 points)**\n",
        "\n",
        "Use any keywords related to data science, natural language processing, machine learning to search from google scholar, get the **titles** of 100 articles (either by web scraping or manually) about this topic, define a set of patterns to extract the research questions/problems, methods/algorithms/models, datasets, applications, or any other important information about this topic. "
      ]
    },
    {
      "cell_type": "code",
      "metadata": {
        "id": "XvR_O9D8sOUY",
        "outputId": "d55bc619-af25-4b2c-b359-2b8633beada0",
        "colab": {
          "base_uri": "https://localhost:8080/",
          "height": 120
        }
      },
      "source": [
        "# Write your code here\n",
        "\n",
        "import pandas as pd\n",
        "import csv\n",
        "with open(\"Inclass5.txt\", \"r\", newline = \"\", encoding = 'utf-8') as file:\n",
        "  titles = file.read()\n",
        "titles"
      ],
      "execution_count": null,
      "outputs": [
        {
          "output_type": "execute_result",
          "data": {
            "application/vnd.google.colaboratory.intrinsic+json": {
              "type": "string"
            },
            "text/plain": [
              "'\"Distilling the knowledge in a neural network\"\\\\r\\\\n\"Deep neural networks are easily fooled High confidence predictions for unrecognizable images\"\\\\r\\\\n\"How transferable are features in deep neural networks\"\\\\r\\\\n\"CNN features off-the-Shelf An astounding baseline for recognition\"\\\\r\\\\n\"Learning and transferring mid-Level image representations using convolutional neural networks\"\\\\r\\\\n\"Visualizing and understanding convolutional networks\"\\\\r\\\\n\"Decaf A deep convolutional activation feature for generic visual recognition\"\\\\r\\\\n\"Training very deep networks\"\\\\r\\\\n\"Batch normalization Accelerating deep network training by reducing internal covariate shift\"\\\\r\\\\n\"Delving deep into rectifiers Surpassing human-level performance on imagenet classification\"\\\\r\\\\n\"Dropout A simple way to prevent neural networks from overfitting\"\\\\r\\\\n\"Adam A method for stochastic optimization\"\\\\r\\\\n\"Improving neural networks by preventing co-adaptation of feature detectors\"\\\\r\\\\n\"Random search for hyper-parameter optimization\"\\\\r\\\\n\"MobileNets Efficient Convolutinal Neural Networks for Mobile Vision Applications\"\\\\r\\\\n\"A Knowledge-Grounded Neural Conversation Model\"\\\\r\\\\n\"Accurate, Large Minibatch SGDTraining ImageNet in 1 Hour\"\\\\r\\\\n\"TACOTRON Towards end-to-end speech synthesis\"\\\\r\\\\n\"Deep Photo Style Transfer\"\\\\r\\\\n\"Evolution Strategies as a Scalable Alternative to Reinforcement Learning\"\\\\r\\\\n\"Deformable Convolutional Networks\"\\\\r\\\\n\"Mask R-CNN\"\\\\r\\\\n\"Learning to discover cross-domain relations with generative adversarial networks\"\\\\r\\\\n\"Deep voice Real-time neural text-to-speech\"\\\\r\\\\n\"PixelNet Representation of the pixels, by the pixels, and for the pixels\"\\\\r\\\\n\"Batch renormalization Towards reducing minibatch dependence in batch-normalized models\"\\\\r\\\\n\"Wasserstein GAN\"\\\\r\\\\n\"Understanding deep learning requires rethinking generalization\"\\\\r\\\\n\"An analysis of single-layer networks in unsupervised feature learning\"\\\\r\\\\n\"Deep sparse rectifier neural networks\"\\\\r\\\\n\"Natural language processing from scratch\"\\\\r\\\\n\"Recurrent neural network based language model\"\\\\r\\\\n\"Stacked denoising autoencoders earning useful representations in a deep network with a local denoising criterion\"\\\\r\\\\n\"Learning mid-level features for recognition\"\\\\r\\\\n\"A practical guide to training restricted boltzmann machines\"\\\\r\\\\n\"Understanding the difficulty of training deep feedforward neural networks\"\\\\r\\\\n\"Why does unsupervised pre-training help deep learning\"\\\\r\\\\n\"Learning deep architectures for AI\"\\\\r\\\\n\"Convolutional deep belief networks for scalble unsupervised learning of hierarchical representations\"\\\\r\\\\n\"Greedy layer-wise training of deep networks\"\\\\r\\\\n\"Reducing the dimensionality of data with neural networks\"\\\\r\\\\n\"A fast learning algorithm for deep belief nets\"\\\\r\\\\n\"Gradient-based learning applied to document recognition\"\\\\r\\\\n\"Long short-term memory\"\\\\r\\\\n\"SQuAD 100,000+ Questions for Machine Comprehension of Text\"\\\\r\\\\n\"OpenAI gym\"\\\\r\\\\n\"TensorFlow Large-scale machine learning on heterogeneous distributed systems\"\\\\r\\\\n\"Theano A Python framework for fast computation of mathematical expressions\"\\\\r\\\\n\"Torch7 A matlab-like environment for machinelearning\"\\\\r\\\\n\"MatConvNet Convolutional neural networks for matlab\"\\\\r\\\\n\"Imagenet large scale visual recognition challenge\"\\\\r\\\\n\"Caffe Convolutional architecture for fast feature embedding\"\\\\r\\\\n\"On the Origin of Deep Learning\"\\\\r\\\\n\"Deep Reinforcement Learning An Overview\"\\\\r\\\\n\"Neural Machine Translation and Sequence-to-sequence Models\"\\\\r\\\\n\"Neural Network and Deep Learning\"\\\\r\\\\n\"Deep learning processes\"\\\\r\\\\n\"LSTM A search space odyssey\"\\\\r\\\\n\"Tutorial on Variational Autoencoders\"\\\\r\\\\n\"Deep learning\"\\\\r\\\\n\"Deep learning in neural networks An overview\"\\\\r\\\\n\"Representation learning A review and new perspectives\"\\\\r\\\\n\"A character-level decoder without explicit segmentation for neural machine translation\"\\\\r\\\\n\"Dermatologist-level classification of skin cancer with deep neural networks\"\\\\r\\\\n\"Weakly supervised object localization with multi-fold multiple instance learning\"\\\\r\\\\n\"Brain tumor segmentation with deep neural networks\"\\\\r\\\\n\"Professor Forcing A New Algorithm for Training Recurrent Networks\"\\\\r\\\\n\"Adversarially learned inference\"r\\\\\\\\n\"Understanding convolutional neural networks\"\\\\r\\\\n\"Taking the human out of the loop A review of bayesian optimization\"\\\\r\\\\n\"Adaptive computation time for recurrent neural networks\"\\\\r\\\\n\"Densely connected convolutional networks\"\\\\r\\\\n\"Region-based convolutional networks for accurate object detection and segmentation\"\\\\r\\\\n\"Continuous deep q-learning with model-based acceleration\"\\\\r\\\\n\"A thorough examination of the cnn/daily mail reading comprehension task\"\\\\r\\\\n\"Achieving open vocabulary neural machine translation with hybrid word-character models\"\\\\r\\\\n\"Very Deep Convolutional Networks for Natural Language Processing\"\\\\r\\\\n\"Bag of tricks for efficient text classification\"\\\\r\\\\n\"Efficient piecewise training of deep structured models for semantic segmentation\"\\\\r\\\\n\"Learning to compose neural networks for question answering\"\\\\r\\\\n\"Perceptual losses for real-time style transfer and super-resolution\"\\\\r\\\\n\"Reading text in the wild with convolutional neural network\"\\\\r\\\\n\"What makes for effective detection proposals\"\\\\r\\\\n\"Inside-outsie net Detecting objects in context with skip pooling and recurrent neural networks\"\\\\r\\\\n\"Instance-aware semantic segmentation via multi-task network cascades\"\\\\r\\\\n\"Conditional image generation with pixel cnn decoders\"\\\\r\\\\n\"Deep networks with stochastic depth\"\\\\r\\\\n\"Consistency and Fluctuations For Stochastic Gradient Langevin Dynamics\"\\\\r\\\\n\"Ask your neurons A neural-based approach to answering questions about images\"\\\\r\\\\n\"Exploring models and data for image question answering\"\\\\r\\\\n\"Are you talking to a machine dataset and methods for multilingual image question\"\\\\r\\\\n\"Mind\\\\\\'s eye A recurrent visual representation for image caption generation\"\\\\r\\\\n\"From captions to visual concepts and back\"\\\\r\\\\n\"Towards AI-complete question answering A set of prerequisite toy tasks\"\\\\r\\\\n\"Ask me anything Dynamic memory networks for natural language processing\"\\\\r\\\\n\"Unsupervised learning of video representations using LSTMs\"\\\\r\\\\n\"Deep compression Compressing deep neural networks with pruning, trained quantization and huffman coding\"\\\\r\\\\n\"Improved semantic representations from tree-structured long short-term memory networks\"\\\\r\\\\n\"Character-aware neural language models\"\\\\r\\\\n\"Machine learning with Tensorflow\"\\\\r\\\\n\"Autism research using Machine Learning algorithms\"\\\\r\\\\n\\''"
            ]
          },
          "metadata": {
            "tags": []
          },
          "execution_count": 1
        }
      ]
    },
    {
      "cell_type": "code",
      "metadata": {
        "id": "7MM22oFUj5Ts"
      },
      "source": [
        "\n",
        "import pandas as pd\n",
        "import nltk\n",
        "import string\n",
        "import csv\n",
        "import re\n",
        "import spacy\n",
        "import numpy as np\n",
        "import math\n",
        "from tqdm import tqdm\n",
        "from spacy.tokens import Span\n",
        "from spacy import displacy\n",
        "from spacy.matcher import Matcher\n",
        "\n",
        "pd.set_option('display.max_colwidth', 200)\n",
        "n = spacy.load(\"en_core_web_sm\")"
      ],
      "execution_count": null,
      "outputs": []
    },
    {
      "cell_type": "code",
      "metadata": {
        "id": "3w0Em4kakAG2",
        "outputId": "73daa68d-1b99-4bfb-a9a0-61ec8b76ec12",
        "colab": {
          "base_uri": "https://localhost:8080/",
          "height": 204
        }
      },
      "source": [
        "d = n('Training very deep networks via Mask R-CNN')\n",
        "for token in d:\n",
        "  print(token.text, \"-->\", token.dep_,\"-->\",token.pos_)\n",
        "p = [{},{'lower':'knowledge','OP':'?'},{'lower':'graph','OP':'?'},{},{'lower':'via'},{'POS':'PROPN','OP':'+'},{},{'POS':'Noun','OP':'*'}]\n",
        "matcher = Matcher(n.vocab)\n",
        "matcher.add(\"matching_1\",None,p)\n",
        "matches = matcher(d)\n",
        "span1 = d[matches[0][1]:matches[1][2]]\n",
        "span2 = d[matches[0][1]:matches[1][2]]\n",
        "if len(span1) >= len(span2):\n",
        "  print(span1.text)\n",
        "print(span2.text)"
      ],
      "execution_count": null,
      "outputs": [
        {
          "output_type": "stream",
          "text": [
            "Training --> ROOT --> VERB\n",
            "very --> advmod --> ADV\n",
            "deep --> amod --> ADJ\n",
            "networks --> dobj --> NOUN\n",
            "via --> prep --> ADP\n",
            "Mask --> compound --> PROPN\n",
            "R --> compound --> PROPN\n",
            "- --> punct --> PUNCT\n",
            "CNN --> pobj --> PROPN\n",
            "deep networks via Mask R-\n",
            "deep networks via Mask R-\n"
          ],
          "name": "stdout"
        }
      ]
    },
    {
      "cell_type": "code",
      "metadata": {
        "id": "4HrNDfrwkKui",
        "outputId": "a9c145d1-29b8-431f-9b4a-43e1186cc0b4",
        "colab": {
          "base_uri": "https://localhost:8080/",
          "height": 187
        }
      },
      "source": [
        "d = n(titles)\n",
        "def find_pattern(pattern):\n",
        "  matcher = Matcher(n.vocab)\n",
        "  matcher.add(\"matching_1\", None, pattern)\n",
        "  matches = matcher(d)\n",
        "  if (len(matches)>0):\n",
        "    span = d[matches[0][1]:matches[0][2]]\n",
        "    print(span.text)\n",
        "\n",
        "p1 = [{'POS':'NOUN'},\n",
        "      {'LOWER':'and'},\n",
        "      {'LOWER':'the','OP':\"?\"},\n",
        "      {'POS':'NOUN'}]\n",
        "\n",
        "p2 = [{'POS':'NOUN'},\n",
        "      {'LOWER':'using'},\n",
        "      {'POS':'ADJ','OP':\"*\"},\n",
        "      {'POS':'NOUN'}]\n",
        "\n",
        "p3 = [{'POS':'NOUN'},\n",
        "      {'LOWER':'with'},\n",
        "      {'POS':'ADJ','OP':\"*\"},\n",
        "      {'POS':'NOUN'}]\n",
        "\n",
        "p4 = [{'POS':'NOUN','OP':\"+\"},\n",
        "      {'POS':'VERB','OP':\"*\"},\n",
        "      {'LOWER':'for'},\n",
        "      {'POS':'ADJ','OP':\"*\"},\n",
        "      {'POS':'NOUN'},\n",
        "      {'POS':'NOUN','OP':\"?\"}]\n",
        "\n",
        "p5 = [{},\n",
        "      {},\n",
        "      {},\n",
        "      {'lower':'for'},\n",
        "      {'POS':'PROPN','OP':'+'}]\n",
        "\n",
        "print(\"and:\")\n",
        "find_pattern(p1)\n",
        "print(\"using:\")\n",
        "find_pattern(p2)\n",
        "print(\"with:\")\n",
        "find_pattern(p3)\n",
        "print(\"for:\")\n",
        "find_pattern(p4)\n",
        "print('for:')\n",
        "find_pattern(p5)"
      ],
      "execution_count": null,
      "outputs": [
        {
          "output_type": "stream",
          "text": [
            "and:\n",
            "Translation and Sequence\n",
            "using:\n",
            "representations using convolutional neural networks\"\\r\\n\"Visualizing\n",
            "with:\n",
            "localization with multi-fold multiple instance\n",
            "for:\n",
            "method for stochastic optimization\"\\r\\n\"Improving neural networks\n",
            "for:\n",
            "Convolutinal Neural Networks for Mobile\n"
          ],
          "name": "stdout"
        }
      ]
    },
    {
      "cell_type": "markdown",
      "metadata": {
        "id": "Dq_7VGmrsum4"
      },
      "source": [
        "## **2. Domain-specific information extraction (10 points)**\n",
        "\n",
        "For the legal case used in the data cleaning exercise: [01-05-1 Adams v Tanner.txt](https://github.com/unt-iialab/INFO5731_FALL2020/blob/master/In_class_exercise/01-05-1%20%20Adams%20v%20Tanner.txt), use [legalNLP](https://lexpredict-lexnlp.readthedocs.io/en/latest/modules/extract/extract.html#nlp-based-extraction-methods) to extract the following inforation from the text (if the information is not exist, just print None):\n",
        "\n",
        "(1) acts, e.g., “section 1 of the Advancing Hope Act, 1986”\n",
        "\n",
        "(2) amounts, e.g., “ten pounds” or “5.8 megawatts”\n",
        "\n",
        "(3) citations, e.g., “10 U.S. 100” or “1998 S. Ct. 1”\n",
        "\n",
        "(4) companies, e.g., “Lexpredict LLC”\n",
        "\n",
        "(5) conditions, e.g., “subject to …” or “unless and until …”\n",
        "\n",
        "(6) constraints, e.g., “no more than”\n",
        "\n",
        "(7) copyright, e.g., “(C) Copyright 2000 Acme”\n",
        "\n",
        "(8) courts, e.g., “Supreme Court of New York”\n",
        "\n",
        "(9) CUSIP, e.g., “392690QT3”\n",
        "\n",
        "(10) dates, e.g., “June 1, 2017” or “2018-01-01”\n",
        "\n",
        "(11) definitions, e.g., “Term shall mean …”\n",
        "\n",
        "(12) distances, e.g., “fifteen miles”\n",
        "\n",
        "(13) durations, e.g., “ten years” or “thirty days”\n",
        "\n",
        "(14) geographic and geopolitical entities, e.g., “New York” or “Norway”\n",
        "\n",
        "(15) money and currency usages, e.g., “$5” or “10 Euro”\n",
        "\n",
        "(16) percents and rates, e.g., “10%” or “50 bps”\n",
        "\n",
        "(17) PII, e.g., “212-212-2121” or “999-999-9999”\n",
        "\n",
        "(18) ratios, e.g.,” 3:1” or “four to three”\n",
        "\n",
        "(19) regulations, e.g., “32 CFR 170”\n",
        "\n",
        "(20) trademarks, e.g., “MyApp (TM)”\n",
        "\n",
        "(21) URLs, e.g., “http://acme.com/”\n",
        "\n",
        "(22) addresses, e.g., “1999 Mount Read Blvd, Rochester, NY, USA, 14615”\n",
        "\n",
        "(23) persons, e.g., “John Doe"
      ]
    },
    {
      "cell_type": "code",
      "metadata": {
        "id": "qc7NtJrLx5tS",
        "outputId": "2c09082e-1da0-422e-f81d-de1c052113e8",
        "colab": {
          "base_uri": "https://localhost:8080/",
          "height": 1000
        }
      },
      "source": [
        "# write your code here\n",
        "!pip install lexnlp"
      ],
      "execution_count": null,
      "outputs": [
        {
          "output_type": "stream",
          "text": [
            "Collecting lexnlp\n",
            "\u001b[?25l  Downloading https://files.pythonhosted.org/packages/a1/d3/2c3f8595eb1aa418d820130e9d4d2b56c82fd2f88f1cb9720983d2f0b4f2/lexnlp-1.7.0-py3-none-any.whl (9.7MB)\n",
            "\u001b[K     |████████████████████████████████| 9.7MB 2.6MB/s \n",
            "\u001b[?25hCollecting num2words==0.5.10\n",
            "\u001b[?25l  Downloading https://files.pythonhosted.org/packages/eb/a2/ea800689730732e27711c41beed4b2a129b34974435bdc450377ec407738/num2words-0.5.10-py3-none-any.whl (101kB)\n",
            "\u001b[K     |████████████████████████████████| 102kB 11.4MB/s \n",
            "\u001b[?25hCollecting Unidecode==1.1.1\n",
            "\u001b[?25l  Downloading https://files.pythonhosted.org/packages/d0/42/d9edfed04228bacea2d824904cae367ee9efd05e6cce7ceaaedd0b0ad964/Unidecode-1.1.1-py2.py3-none-any.whl (238kB)\n",
            "\u001b[K     |████████████████████████████████| 245kB 40.9MB/s \n",
            "\u001b[?25hCollecting nltk==3.5\n",
            "\u001b[?25l  Downloading https://files.pythonhosted.org/packages/92/75/ce35194d8e3022203cca0d2f896dbb88689f9b3fce8e9f9cff942913519d/nltk-3.5.zip (1.4MB)\n",
            "\u001b[K     |████████████████████████████████| 1.4MB 50.7MB/s \n",
            "\u001b[?25hCollecting regex==2020.7.14\n",
            "\u001b[?25l  Downloading https://files.pythonhosted.org/packages/66/f2/b3af9ce9df4b7e121dfeece41fc95e37b14f0153821f35d08edb0b0813ff/regex-2020.7.14-cp36-cp36m-manylinux2010_x86_64.whl (660kB)\n",
            "\u001b[K     |████████████████████████████████| 665kB 47.4MB/s \n",
            "\u001b[?25hCollecting scipy==1.5.1\n",
            "\u001b[?25l  Downloading https://files.pythonhosted.org/packages/ab/f9/6eeed6d5cd8dd435bbf105d10d778c2d76de1a5838fdbc315a59fb7fad64/scipy-1.5.1-cp36-cp36m-manylinux1_x86_64.whl (25.9MB)\n",
            "\u001b[K     |████████████████████████████████| 25.9MB 1.3MB/s \n",
            "\u001b[?25hCollecting us==2.0.2\n",
            "  Downloading https://files.pythonhosted.org/packages/88/04/04323aefa1871de30286d3decae7706481c73bd428cf0c08e158bfa259a6/us-2.0.2.tar.gz\n",
            "Collecting reporters-db==2.0.3\n",
            "\u001b[?25l  Downloading https://files.pythonhosted.org/packages/6b/e9/498bada93e69e3162a027d9285e852c464d66aae23ec3c845700ee117414/reporters_db-2.0.3-py2.py3-none-any.whl (72kB)\n",
            "\u001b[K     |████████████████████████████████| 81kB 9.6MB/s \n",
            "\u001b[?25hCollecting scikit-learn==0.23.1\n",
            "\u001b[?25l  Downloading https://files.pythonhosted.org/packages/d9/3a/eb8d7bbe28f4787d140bb9df685b7d5bf6115c0e2a969def4027144e98b6/scikit_learn-0.23.1-cp36-cp36m-manylinux1_x86_64.whl (6.8MB)\n",
            "\u001b[K     |████████████████████████████████| 6.9MB 49.1MB/s \n",
            "\u001b[?25hCollecting pycountry==20.7.3\n",
            "\u001b[?25l  Downloading https://files.pythonhosted.org/packages/76/73/6f1a412f14f68c273feea29a6ea9b9f1e268177d32e0e69ad6790d306312/pycountry-20.7.3.tar.gz (10.1MB)\n",
            "\u001b[K     |████████████████████████████████| 10.1MB 207kB/s \n",
            "\u001b[?25hCollecting numpy==1.19.1\n",
            "\u001b[?25l  Downloading https://files.pythonhosted.org/packages/b1/9a/7d474ba0860a41f771c9523d8c4ea56b084840b5ca4092d96bdee8a3b684/numpy-1.19.1-cp36-cp36m-manylinux2010_x86_64.whl (14.5MB)\n",
            "\u001b[K     |████████████████████████████████| 14.5MB 310kB/s \n",
            "\u001b[?25hCollecting pandas==0.24.2\n",
            "\u001b[?25l  Downloading https://files.pythonhosted.org/packages/19/74/e50234bc82c553fecdbd566d8650801e3fe2d6d8c8d940638e3d8a7c5522/pandas-0.24.2-cp36-cp36m-manylinux1_x86_64.whl (10.1MB)\n",
            "\u001b[K     |████████████████████████████████| 10.1MB 189kB/s \n",
            "\u001b[?25hCollecting requests==2.24.0\n",
            "\u001b[?25l  Downloading https://files.pythonhosted.org/packages/45/1e/0c169c6a5381e241ba7404532c16a21d86ab872c9bed8bdcd4c423954103/requests-2.24.0-py2.py3-none-any.whl (61kB)\n",
            "\u001b[K     |████████████████████████████████| 71kB 9.6MB/s \n",
            "\u001b[?25hCollecting dateparser==0.7.2\n",
            "\u001b[?25l  Downloading https://files.pythonhosted.org/packages/82/9d/51126ac615bbc4418478d725a5fa1a0f112059f6f111e4b48cfbe17ef9d0/dateparser-0.7.2-py2.py3-none-any.whl (352kB)\n",
            "\u001b[K     |████████████████████████████████| 358kB 47.6MB/s \n",
            "\u001b[?25hCollecting datefinder-lexpredict==0.6.2\n",
            "  Downloading https://files.pythonhosted.org/packages/27/47/9a38724045b30e2e4d1c5e3e08fd3b0770dedb2e9ca92c1347b9e2182470/datefinder_lexpredict-0.6.2-py2.py3-none-any.whl\n",
            "Collecting gensim==3.8.3\n",
            "\u001b[?25l  Downloading https://files.pythonhosted.org/packages/2b/e0/fa6326251692056dc880a64eb22117e03269906ba55a6864864d24ec8b4e/gensim-3.8.3-cp36-cp36m-manylinux1_x86_64.whl (24.2MB)\n",
            "\u001b[K     |████████████████████████████████| 24.2MB 1.3MB/s \n",
            "\u001b[?25hRequirement already satisfied: docopt>=0.6.2 in /usr/local/lib/python3.6/dist-packages (from num2words==0.5.10->lexnlp) (0.6.2)\n",
            "Requirement already satisfied: click in /usr/local/lib/python3.6/dist-packages (from nltk==3.5->lexnlp) (7.1.2)\n",
            "Requirement already satisfied: joblib in /usr/local/lib/python3.6/dist-packages (from nltk==3.5->lexnlp) (0.16.0)\n",
            "Requirement already satisfied: tqdm in /usr/local/lib/python3.6/dist-packages (from nltk==3.5->lexnlp) (4.41.1)\n",
            "Collecting jellyfish==0.6.1\n",
            "\u001b[?25l  Downloading https://files.pythonhosted.org/packages/61/3f/60ac86fb43dfbf976768e80674b5538e535f6eca5aa7806cf2fdfd63550f/jellyfish-0.6.1.tar.gz (132kB)\n",
            "\u001b[K     |████████████████████████████████| 133kB 46.0MB/s \n",
            "\u001b[?25hRequirement already satisfied: six in /usr/local/lib/python3.6/dist-packages (from reporters-db==2.0.3->lexnlp) (1.15.0)\n",
            "Collecting threadpoolctl>=2.0.0\n",
            "  Downloading https://files.pythonhosted.org/packages/f7/12/ec3f2e203afa394a149911729357aa48affc59c20e2c1c8297a60f33f133/threadpoolctl-2.1.0-py3-none-any.whl\n",
            "Requirement already satisfied: pytz>=2011k in /usr/local/lib/python3.6/dist-packages (from pandas==0.24.2->lexnlp) (2018.9)\n",
            "Requirement already satisfied: python-dateutil>=2.5.0 in /usr/local/lib/python3.6/dist-packages (from pandas==0.24.2->lexnlp) (2.8.1)\n",
            "Requirement already satisfied: certifi>=2017.4.17 in /usr/local/lib/python3.6/dist-packages (from requests==2.24.0->lexnlp) (2020.6.20)\n",
            "Requirement already satisfied: urllib3!=1.25.0,!=1.25.1,<1.26,>=1.21.1 in /usr/local/lib/python3.6/dist-packages (from requests==2.24.0->lexnlp) (1.24.3)\n",
            "Requirement already satisfied: idna<3,>=2.5 in /usr/local/lib/python3.6/dist-packages (from requests==2.24.0->lexnlp) (2.10)\n",
            "Requirement already satisfied: chardet<4,>=3.0.2 in /usr/local/lib/python3.6/dist-packages (from requests==2.24.0->lexnlp) (3.0.4)\n",
            "Requirement already satisfied: tzlocal in /usr/local/lib/python3.6/dist-packages (from dateparser==0.7.2->lexnlp) (1.5.1)\n",
            "Requirement already satisfied: smart-open>=1.8.1 in /usr/local/lib/python3.6/dist-packages (from gensim==3.8.3->lexnlp) (2.2.0)\n",
            "Building wheels for collected packages: nltk, us, pycountry, jellyfish\n",
            "  Building wheel for nltk (setup.py) ... \u001b[?25l\u001b[?25hdone\n",
            "  Created wheel for nltk: filename=nltk-3.5-cp36-none-any.whl size=1434678 sha256=2eee24460b68917d59792109dcd14a1904df84f372a04090df3b77819cba6310\n",
            "  Stored in directory: /root/.cache/pip/wheels/ae/8c/3f/b1fe0ba04555b08b57ab52ab7f86023639a526d8bc8d384306\n",
            "  Building wheel for us (setup.py) ... \u001b[?25l\u001b[?25hdone\n",
            "  Created wheel for us: filename=us-2.0.2-cp36-none-any.whl size=11928 sha256=df10775d87801774543f74eb26a683e05e0dadc8400d3e118e8b0e53502ad207\n",
            "  Stored in directory: /root/.cache/pip/wheels/e2/16/45/6453383ffa495670f0f6b80a3e697a9771d98cfbaf8b451e73\n",
            "  Building wheel for pycountry (setup.py) ... \u001b[?25l\u001b[?25hdone\n",
            "  Created wheel for pycountry: filename=pycountry-20.7.3-py2.py3-none-any.whl size=10746865 sha256=056c2767341d054329b801e0b658ca0f7cb59d78efbcc9d6ce89833474dce86b\n",
            "  Stored in directory: /root/.cache/pip/wheels/33/4e/a6/be297e6b83567e537bed9df4a93f8590ec01c1acfbcd405348\n",
            "  Building wheel for jellyfish (setup.py) ... \u001b[?25l\u001b[?25hdone\n",
            "  Created wheel for jellyfish: filename=jellyfish-0.6.1-cp36-cp36m-linux_x86_64.whl size=74749 sha256=0fcade4967f73a99992ad3c0fde13bc695f93f35458b61ab43727092fa20c2e2\n",
            "  Stored in directory: /root/.cache/pip/wheels/9c/6f/33/92bb9a4b4562a60ba6a80cedbab8907e48bc7a8b1f369ea0ae\n",
            "Successfully built nltk us pycountry jellyfish\n",
            "\u001b[31mERROR: xarray 0.15.1 has requirement pandas>=0.25, but you'll have pandas 0.24.2 which is incompatible.\u001b[0m\n",
            "\u001b[31mERROR: tensorflow 2.3.0 has requirement numpy<1.19.0,>=1.16.0, but you'll have numpy 1.19.1 which is incompatible.\u001b[0m\n",
            "\u001b[31mERROR: tensorflow 2.3.0 has requirement scipy==1.4.1, but you'll have scipy 1.5.1 which is incompatible.\u001b[0m\n",
            "\u001b[31mERROR: plotnine 0.6.0 has requirement pandas>=0.25.0, but you'll have pandas 0.24.2 which is incompatible.\u001b[0m\n",
            "\u001b[31mERROR: mizani 0.6.0 has requirement pandas>=0.25.0, but you'll have pandas 0.24.2 which is incompatible.\u001b[0m\n",
            "\u001b[31mERROR: google-colab 1.0.0 has requirement pandas~=1.1.0; python_version >= \"3.0\", but you'll have pandas 0.24.2 which is incompatible.\u001b[0m\n",
            "\u001b[31mERROR: google-colab 1.0.0 has requirement requests~=2.23.0, but you'll have requests 2.24.0 which is incompatible.\u001b[0m\n",
            "\u001b[31mERROR: fbprophet 0.7.1 has requirement pandas>=1.0.4, but you'll have pandas 0.24.2 which is incompatible.\u001b[0m\n",
            "\u001b[31mERROR: datascience 0.10.6 has requirement folium==0.2.1, but you'll have folium 0.8.3 which is incompatible.\u001b[0m\n",
            "\u001b[31mERROR: albumentations 0.1.12 has requirement imgaug<0.2.7,>=0.2.5, but you'll have imgaug 0.2.9 which is incompatible.\u001b[0m\n",
            "\u001b[31mERROR: datefinder-lexpredict 0.6.2 has requirement regex==2017.9.23, but you'll have regex 2020.7.14 which is incompatible.\u001b[0m\n",
            "Installing collected packages: num2words, Unidecode, regex, nltk, numpy, scipy, jellyfish, us, reporters-db, threadpoolctl, scikit-learn, pycountry, pandas, requests, dateparser, datefinder-lexpredict, gensim, lexnlp\n",
            "  Found existing installation: regex 2019.12.20\n",
            "    Uninstalling regex-2019.12.20:\n",
            "      Successfully uninstalled regex-2019.12.20\n",
            "  Found existing installation: nltk 3.2.5\n",
            "    Uninstalling nltk-3.2.5:\n",
            "      Successfully uninstalled nltk-3.2.5\n",
            "  Found existing installation: numpy 1.18.5\n",
            "    Uninstalling numpy-1.18.5:\n",
            "      Successfully uninstalled numpy-1.18.5\n",
            "  Found existing installation: scipy 1.4.1\n",
            "    Uninstalling scipy-1.4.1:\n",
            "      Successfully uninstalled scipy-1.4.1\n",
            "  Found existing installation: scikit-learn 0.22.2.post1\n",
            "    Uninstalling scikit-learn-0.22.2.post1:\n",
            "      Successfully uninstalled scikit-learn-0.22.2.post1\n",
            "  Found existing installation: pandas 1.1.2\n",
            "    Uninstalling pandas-1.1.2:\n",
            "      Successfully uninstalled pandas-1.1.2\n",
            "  Found existing installation: requests 2.23.0\n",
            "    Uninstalling requests-2.23.0:\n",
            "      Successfully uninstalled requests-2.23.0\n",
            "  Found existing installation: gensim 3.6.0\n",
            "    Uninstalling gensim-3.6.0:\n",
            "      Successfully uninstalled gensim-3.6.0\n",
            "Successfully installed Unidecode-1.1.1 datefinder-lexpredict-0.6.2 dateparser-0.7.2 gensim-3.8.3 jellyfish-0.6.1 lexnlp-1.7.0 nltk-3.5 num2words-0.5.10 numpy-1.19.1 pandas-0.24.2 pycountry-20.7.3 regex-2020.7.14 reporters-db-2.0.3 requests-2.24.0 scikit-learn-0.23.1 scipy-1.5.1 threadpoolctl-2.1.0 us-2.0.2\n"
          ],
          "name": "stdout"
        },
        {
          "output_type": "display_data",
          "data": {
            "application/vnd.colab-display-data+json": {
              "pip_warning": {
                "packages": [
                  "nltk",
                  "numpy",
                  "pandas",
                  "regex",
                  "requests",
                  "scipy",
                  "sklearn"
                ]
              }
            }
          },
          "metadata": {
            "tags": []
          }
        }
      ]
    },
    {
      "cell_type": "code",
      "metadata": {
        "id": "Ip8IkjzJkYki",
        "outputId": "197f1933-6ab6-4862-ac14-ccab20e3b238",
        "colab": {
          "base_uri": "https://localhost:8080/",
          "height": 153
        }
      },
      "source": [
        "import nltk\n",
        "nltk.download('punkt')\n",
        "nltk.download('averaged_perceptron_tagger')\n",
        "nltk.download('wordnet')"
      ],
      "execution_count": null,
      "outputs": [
        {
          "output_type": "stream",
          "text": [
            "[nltk_data] Downloading package punkt to /root/nltk_data...\n",
            "[nltk_data]   Unzipping tokenizers/punkt.zip.\n",
            "[nltk_data] Downloading package averaged_perceptron_tagger to\n",
            "[nltk_data]     /root/nltk_data...\n",
            "[nltk_data]   Unzipping taggers/averaged_perceptron_tagger.zip.\n",
            "[nltk_data] Downloading package wordnet to /root/nltk_data...\n",
            "[nltk_data]   Unzipping corpora/wordnet.zip.\n"
          ],
          "name": "stdout"
        },
        {
          "output_type": "execute_result",
          "data": {
            "text/plain": [
              "True"
            ]
          },
          "metadata": {
            "tags": []
          },
          "execution_count": 6
        }
      ]
    },
    {
      "cell_type": "code",
      "metadata": {
        "id": "fysHxQkukhmB",
        "outputId": "89a184dc-4d00-4056-b7d0-4439d0f7d86b",
        "colab": {
          "base_uri": "https://localhost:8080/",
          "height": 120
        }
      },
      "source": [
        "\n",
        "t = open('Inclass4.txt').read()\n",
        "t"
      ],
      "execution_count": 8,
      "outputs": [
        {
          "output_type": "execute_result",
          "data": {
            "application/vnd.google.colaboratory.intrinsic+json": {
              "type": "string"
            },
            "text/plain": [
              "'\\n5 Ala. 740\\nSupreme Court of Alabama.\\nADAMS\\nv.\\nTANNER AND HORTON.\\nJune Term, 1843.\\nSynopsis\\nWRIT of Error to the Circuit Court of Sumter.\\n\\xa0\\n\\n\\nWest Headnotes (2)\\n\\n\\n[1]\\nChattel Mortgages\\nCrops\\nA growing crop has such an existence as to be the subject-matter of a mortgage or other contract which passes an interest to vest in possession, either immediately or at a future time.\\n4 Cases that cite this headnote\\n\\n[2]\\nCreditors’ Remedies\\nLien and Priority\\nUnder St.1821, prohibiting a levy on a crop until it has been gathered, no lien attaches in favor of a fi. fa. on a growing crop, nor does such lien attach until after the crop has been gathered.\\n5 Cases that cite this headnote\\n\\n**1 This was a trial of the right of property under the statute. In November, 1840, an execution issued from the circuit court of Sumter, at the suit of the plaintiff in error, requiring the sheriff of that county, to make of the goods, &c., of Allen Harrison and others, the sum of thirty-seven hundred and seventy-seven 80-100 dollars, besides costs. This execution was levied on thirty bales of cotton, as the property of Allen Harrison, which was claimed, and a bond given to try the right. An issue was made up to try the question of the liability of the cotton to the plaintiff’s execution, and submitted to a jury. On the trial, a bill of exceptions was sealed at the instance of the plaintiff. The plaintiff proved that he recovered his judgment in October, 1839; that an execution *741 was issued thereon on the 7th Nov. thereafter, and that alias and pluries fieri facias’, issued regularly up to the time levy was made; that the cotton levied on was growed on the plantation of Harrison, and cultivated by the hands in his service. It was proved by the claimants, by the production of a written contract, that Harrison, on the twenty-second of May, 1840, in consideration that the claimants were involved, as indorsers for Burton & Harrison of Sumter county, and were then exposed to an execution, amounting to upwards of fourteen thousand dollars, bargained and sold to the claimants all his growing crop of cotton &c., consisting of one hundred and twenty acres, &c. Allen Harrison promised and obliged himself to give up his crop to the use of the claimants at any time to save them from suffering as his indorsers; if the crop matured and was gathered he undertook to deliver the cotton in Gainesville. The claimants came from Tennessee, (where they resided) about the first of September, 1840, bringing with them three or four white laborers, and took possession of the crop and slaves, and with the latter, and white laborers, gathered the cotton, prepared it for market, and when levied on, it was in a ware-house in Gainesville. The plaintiff then proved by Harrison, that the claimants took possession of the crop, while he was absent, and disposed of it without his consent. It was admitted, that the contract was made in good faith.\\nThe court charged the jury, that the plaintiff had no lien by virtue of his judgment, and execution on the growing crop; that Harrison had a right to convey it, without being in any manner restrained by them; that the writing adduced, was a sale of the crop, but if it was not, and the lien of the fieri facias would have attached upon it, when gathered, yet if the claimants obtained possession on the first of September, and controlled the gathering of the crop, then no lien attached, and it was not subject to the levy.\\nAttorneys and Law Firms\\nR. H. SMITH, for the plaintiff, in error, made the following points.--1. The crop of Harrison, must, in May, 1840, have been in an immature state, and it is insisted, was not the subject of a sale. 2. By the common law, a growing crop could be levied on and sold, [1 Salk. Rep. 361; 1 Bos. & P. Rep. 307; 6 East’s Rep. 604, note 1; 2 Johns. Rep. 418, 422; 7 Mass. Rep. 34,] and our statue, [[[Aik. Dig. § 41, p. 167,] which forbids the levy of an *742 execution on a growing crop, is to receive a strict construction. It merely inhibits the levy, but the lien attaches, and a levy and sale may be made after the crop matures, and is gathered. 3. The contract does not purport to convey the growing crop, but is a mere executory agreement, requiring some act to be done by Harrison, in order to invest the claimants with the right of property. [Chit. on Con. 112, 207; 3 Johns. Rep. 338, 424; 5 Wend. Rep. 26; 13 Johns. Rep. 235; 8 Dowl. Rep, 693;] and until this act was done, the crop, no matter by who gathered, because liable to be seized for Harrison’s debts. A court of chancery would not compel a specific performance of the contract at the claimant’s instance. 4. The charge of the court is also objectionable in deciding disputed facts.\\nW. M. MURPHY, with whom was W. G. JONES, for the defendant--cited the act of 1821, [Aik. Dig. 167,] which declares it to be lawful to levy an execution on a planted crop, until it is gathered, and contended that no lien attached in favor of the plaintiff. This being the case, the defendant in execution was not restrained from making the contract which he did with the claimants.\\n**2 The lien of an execution is destroyed by an injunction, because it takes away the right to levy it. In short, whenever the right to levy an execution is but temporarily suspended, or withdrawn, the lien is during that time lost. [[[[Whipple v. Foot, 2 Johns. Rep. 216; 3 Wash. C. C. Rep. 66; 4 How. Rep. 130.]\\nIt is admitted that the contract between the defendant in execution, and the claimants, was in good faith, if so, the severance and removal of the cotton gave the latter a good title against all creditors of the former.\\nOpinion\\n\\nCOLLIER, C. J.\\n\\nThere can be no doubt that a growing crop has such an existence as to be the subject matter of a sale, mortgage, or other contract which possess an interest to vest in possession, either immediately or at some future time. This proposition has frequently been assumed as unquestionable; the point of inquiry generally being, whether under a statute of frauds, such as the 29 Chas. 2, it is a mere chattel, and transferrable by parol without writing. [Chitty on Con. 241-2, 332; Whipple v. Foot, 2 Johns. Rep. 422; Stewart v. Doughty, 9 Johns. Rep. 112; *743 Austin v. Sawyer, 9 Cow. Rep. 39. See also Ravesies v. Lee & Alston, at last term.] The contract set out in the bill of exceptions, we are inclined to think evidences rather a mortgage than an absolute sale. It recites that the claimants are involved as indorsers of a mercantile firm, of which the defendant was a partner; that an execution for upwards of fourteen thousand dollars against their estate, is in the sheriff’s hands, and that a conveyance is made of the crop of cotton, corn and oats, which the grantor agrees to give up at any time to the use of the claimants, so as to prevent injury to them as indorsers. The defendant in execution might at any time have divested the interest which the contract vested in the claimants, by discharging their liability as his indorsers, or a judgment creditor might have satisfied the lien, and when the crop was gathered, have levied on, and sold it under a fieri facias.\\nWe will then consider the writing under which the claimants assert a right, as a mortgage with a power to take possession any time during the year, unless they should be relieved from their engagements as indorsers. It is not pretended that their liability has been satisfied, and it is admitted that the parties have acted with good faith, so that it is a dry question of law, whether the right of the plaintiff, or the claimants shall prevail. Assuming for the present that the execution of the plaintiffs did not operate a lien upon the planted crop previous to the contract of May, 1840, we will inquire whether the defendant in execution had such an interest as could be levied on and sold.\\nThe claimants had previous to the levy of the execution taken possession of the crop, prepared the cotton for market, and removed it to a ware-house. This possession, it is insisted, was a trespass, because it was acquired in the absence of the defendant in execution, and without his consent then given. Conceding the truth of the facts stated in the bill of exceptions, and we think it will not follow, that the possession of the claimants is a nullity, and that the case must be considered as if they had never interfered with the crop. The contract contains an express undertaking to give up the crop at any time the claimants might require it for their indemnity, and if they took possession of it in the absence of the grantor, (though without his consent,) if he subsequently acquiesced in it, the inference would be, if necessary, that their acts were approved by him. Taking this to be clear *744 law, and it will be seen, that the defendant in execution at the time of the levy had nothing more than a mere equitable right to redeem the cotton by paying the debts indorsed by the claimants. He had no possession coupled with this equity, but only a naked equity, which it has been held cannot be reached by an ordinary execution. [Perkins and Elliott v. Mayfield, 5 Porter’s Rep. 182.]\\n**3 This brings us back to the question, whether the execution of the plaintiff was a lien on the growing crop, so as to defeat the mortgage to the claimants. It has been frequently mooted whether, at common law, corn, &c., before it is gathered, can be seized under a fieri facias. Mr. Dane, in remarking upon this point, says, “The American editor of Bacon’s Abridgment, says, ‘Wheat growing in the ground is a chattel, and subject to be taken in execution; and the sheriff may suffer it to grow till harvest, and then cut and sell it; or may perhaps sell it growing, and the purchaser will then be entitled to enter, for the purpose of cutting and carrying it away.” [He cites Whipple v. Foot, ut supra, also Poole’s case, Salk. 368; 1 Bos. & P. 397; 6 East, 604, n.] But Whipple v. Foot seems to be the only case that supports his position, that unripe wheat or corn may be taken in execution; and the same editor states that nothing can be taken in execution which cannot be sold. This position, says the learned commentator, is no doubt law. But it is unnecessary to consider how this matter stands at common law. The first section of the act of 1821, “To prevent sheriffs and other officers from levying executions in certain cases, enacts, that “It shall not be lawful for any sheriff or other officer, to levy a writ of fieri facias or other execution on the planted crop of a debtor, or person against whom an execution may issue, until the crop is gathered.” [Aik. Dig. 167.] Now here is an express inhibition to levy an execution on a crop while it remains on, or in the ground, and until it is severed from the soil to which it owes its growth. In respect to property thus situated, will the lien of an execution attach eo instanti upon its being placed in the hands of an officer? If so, the act cited, will only have the effect of keeping the right to levy it in abeyance until the crop is gathered. The lien of an execution does, not only operate so as to prevent the debtor from disposing of the property on which it attaches, but gives to the creditor the right to have it sold to satisfy his *745 judgment. The lien and the right to levy are intimately connected, and if the latter be taken away, or suspended, the effect, at common law, is the destruction of the former. This principle is fully established by Mansony and Hurtell v. The President, &c. of the Bank of the United States, and its assignees, and the citations contained in the opinion of the court in that case, as also in my opinion in Wood v. Gary, et al., both decided at the last term. That it was competent for the legislature to have made it unlawful to levy an execution on particular property, until its condition was changed, and still to give it a continuing lien, cannot be doubted; but there is nothing in the act in question to indicate that such is its intention. If the object was merely to suspend the sale, until the crop was gathered, it would have been very easy to have said so in explicit terms, but declaring as the statute does, in totidem verbis, that the execution shall not be levied, the legislature must be supposed to have meant what they have expressed. The act was induced by the doubts which existed as to what was the common law, and was intended to remove those doubts by declaring what should be the law in future. It does not create a lien or authorize a levy in a case in which the law, as it then existed, was silent. The idea that the lien attached upon the planted crop as soon as the execution was delivered to the sheriff, though the right to levy it was postponed until a severance took place, is attempted to be deduced from the last words of the section cited, viz: “until the crop is gathered.” These words cannot, upon any just principles of construction be regarded so potent as to give to an execution a retrospective effect. They do not refer to the lien, if they did they would postpone it until the crop was gathered; but it is the levy they relate to and postpone until that event takes place.\\n**4 The right to levy an execution on a planted crop, then, being expressly taken away by the statute, the lien which is connected with and consequent upon that right, never attaches until severance. This being the case, the right of the defendant in execution to make the contract which he did, is unquestionable, and the title of the claimants, coupled as it was with the possession, was paramount to any lien which the execution could exert.\\nThe circuit judge may have mistaken the law in supposing that the contract was a sale, but if he did, an error in that respect was very immaterial, for whether a sale or mortgage, as we have *746 seen, under the facts of the case, the defendant in execution has no interest that could be seised and sold under execution. There is no assumption of any material fact in the charge; but the possession of the claimant, the time when acquired, the gathering of the crop, &c., are all referred to the determination of the jury; who are instructed, if they find them according to the evidence adduced, that no lien ever attached in favor of the plaintiff. The bona fides of the contract was conceded, so that no charge was necessary on that point, and it could not with propriety enter into the inquiry of the jury.\\nIt results from what has been said, that the judgment of the circuit court is affirmed.\\n\\nDISSENTING OPINION.\\n\\nORMOND, J.\\n**4 The statute which presents the question before the court is, that “it shall not be lawful for any sheriff or other officer to levy a writ of fieei facias or other execution, on the planted crop of a debtor, or person against whom an execution may issue, until the crop is gathered.” [Clay’s Dig. 210, § 46.]\\nI shall not enter upon the enquiry, whether, at common law, an execution could be levied upon a growing crop, though I apprehend, it would not be difficult to maintain the affirmative of the proposition. It is sufficient for my purpose, that the statute supposes such to have been the law, as it doubtless was the practice.\\nThis act must be considered in connection with the other acts upon the same subject. The policy of the State, as indicated by these statutes, is undeniably that all the property of a debtor, real and personal, to which he has a legal title, shall be subject to sale by execution, and it appears to me that it would be difficult to assign a reason for the exemption of this species of property from the claims of judgment creditors, and for giving to the defendant in execution the right to dispose of it. It appears to me, with all deference, that the argument that because the sheriff was prohibited from levying on a ““planted crop,” that therefore the execution had lost its lien, and the debtor had the right to sell it, is a non sequitur. The mischief which the statute designed to remedy was, the sacrifice which would be necessarily made by the sale of an immature crop: the statute enables the debtor to retain it until it matures, and by severing it from the soil to put it *747 in a condition to bring its value--the lien in the mean time continuing in the plaintiff in execution.\\n**5 If further confirmation of the correctness of this view were necessary, it will be found, I think, in the language employed by the legislature. The sheriff is forbidden to levy on a “planted crop” until the crop is gathered. Now, if the view taken by the majority of the court, is correct, the right secured to the plaintiff in execution, of levying on the crop after it is gathered, may be frustrated, as it was in this case, by a sale by the defendant in execution, whilst the crop is in an immature state. The construction which has been put upon the statute, involves the singular anomaly, that the legislature, for the protection of the debtor, has forbidden the plaintiff in execution to sell the property of his debtor, because it is not in a condition to bring its value, and yet permits the debtor, voluntarily, by a sale, to submit to the same sacrifice, for his own benefit. It is, in effect, a gift to the defendant in execution, of the growing crop, provided he does not gather it himself, but disposes of it in its then condition. This, I feel a thorough conviction, was not the intention of the legislature; but that it was to secure him from loss, by prohibiting a levy and sale of the crop, until it was gathered, when the temporary suspension of the right to sell, ceased.\\nAll Citations\\n5 Ala. 740, 1843 WL 284\\nEnd of Document\\n© 2019 Thomson Reuters. No claim to original U.S. Government Works.\\nCiting References (9)\\nTreatment\\nTitle\\nDate\\nType\\nDepth\\nHeadnote(s)\\nCited by\\n1.  Booker v. Jones’s Adm’x\\n55 Ala. 266, 271 , Ala.\\nTrover for Conversion of Cotton, with Counts in Case. APPEAL from the Circuit Court of Hale. Tried before the Hon. M. J. SAFFOLD.\\nDec Term 1876\\nCase\\n—\\nCited by\\n2.  Lehman, Durr & Co. v. Marshall\\n47 Ala. 362, 376 , Ala.\\n[TROVER FOR CONVERSION OF COTTON.] APPEAL from the City Court of Montgomery. Tried before Hon. JOHN D. CUNNINGHAM.\\nJan Term 1872\\nCase\\n—\\nCited by\\n3.  Bibb v. Janney\\n45 Ala. 329, 334 , Ala.\\n[GARNISHMENT; WAGES; WAIVER OF EXEMPTION.] APPEAL from City Court of Montgomery. Tried before Hon. JOHN D. CUNNINGHAM.\\nJan Term 1871\\nCase\\n—\\nCited by\\n4.  McKenzie v. Lampley\\n31 Ala. 526, 527 , Ala.\\n[TRIAL OF RIGHT OF PROPERTY IN COTTON.] APPEAL from the Circuit Court of Barbour. Tried before the Hon. S. D. HALE.\\nJan Term 1858\\nCase\\n—\\nCited by\\n5.  Evans v. Lamar\\n21 Ala. 333, 335+ , Ala.\\nERROR to the Circuit Court of Autauga. Tried before the Hon. A. B. MOORE.\\nJun Term 1852\\nCase\\n—\\nCited by\\n 6.  Dewey v. Bowman\\n8 Cal. 145, 147 , Cal.\\nThe judgment of the Court below, against Jacob S. Cohen, should be reversed, for the following reasons: Because the finding of the Court was, so far as Cohen was concerned,...\\nJul Term 1857\\nCase\\n—\\nMentioned by\\n7.  Rees v. Coats\\n65 Ala. 256, 258 , Ala.\\nTrover for Conversion of Three Bales of Cotton. APPEAL from the Circuit Court of Etowah. Tried before the Hon. WM. L. WHITLOCK.\\nNov Term 1880\\nCase\\n—\\nMentioned by\\n8.  Edwards v. Thompson\\n4 S.W. 913, 914 , Tenn.\\nAppeal from circuit court, Weakley county.\\nMay 1887\\nCase\\n—\\n—\\n9.  Growing crops as subject to levy and seizure under attachment or execution\\n103 A.L.R. 464\\nGenerally, at common law, growing crops raised by annual planting, while still attached to the soil, are regarded as personal chattels, subject to levy and seizure under attachment...\\n1936\\nALR\\n—\\n—\\nTable of Authorities (3)\\nTreatment\\nReferenced Title\\nType\\nDepth\\nQuoted\\nPage Number\\nMentioned\\n1.  Austin v. Sawyer\\n9 Cow. 39, N.Y.Sup., 1828\\nParol evidence is not admissible to contradict, or substantially vary, a written contract. And where A. quit-claimed land to W., on which a crop of wheat was growing, reserving the...\\nCase\\n2\\nCited\\n 2.  Perkins v. Mayfield\\n5 Port. 182, Ala., 1837\\nOn writ of error to the Circuit Court of Tuskaloosa.\\nCase\\n2+\\nMentioned\\n3.  Stewart v. Doughty\\n9 Johns. 108, N.Y.Sup., 1812\\nA. let to B. a farm for six years, and A. agreed “to render, yield and pay to A. the one half of all the wheat, rye, corn and other grain, raised on the farm in each year, in the...\\nCase\\n2\\nFilings\\nThere are no Filings for this citation.\\nNegative Treatment\\nThere are no Negative Treatment results for this citation.\\nHistory\\nThere are no History results for this citation.\\n'"
            ]
          },
          "metadata": {
            "tags": []
          },
          "execution_count": 8
        }
      ]
    },
    {
      "cell_type": "code",
      "metadata": {
        "id": "-J2eS7fjkvtX",
        "outputId": "fb30510c-bc65-434f-8a46-9f8d3d0ee640",
        "colab": {
          "base_uri": "https://localhost:8080/",
          "height": 34
        }
      },
      "source": [
        "import lexnlp.extract.en.acts\n",
        "print(lexnlp.extract.en.acts.get_act_list(t))"
      ],
      "execution_count": 9,
      "outputs": [
        {
          "output_type": "stream",
          "text": [
            "[]\n"
          ],
          "name": "stdout"
        }
      ]
    },
    {
      "cell_type": "code",
      "metadata": {
        "id": "UbMtb052k0Ve",
        "outputId": "bddc47bb-ff49-4bac-bd6a-050555814ce4",
        "colab": {
          "base_uri": "https://localhost:8080/",
          "height": 1000
        }
      },
      "source": [
        "import lexnlp.extract.en.amounts\n",
        "list(lexnlp.extract.en.amounts.get_amounts(t))"
      ],
      "execution_count": 10,
      "outputs": [
        {
          "output_type": "execute_result",
          "data": {
            "text/plain": [
              "[5.0,\n",
              " 740.0,\n",
              " 1843.0,\n",
              " 2.0,\n",
              " 1.0,\n",
              " 4.0,\n",
              " 2.0,\n",
              " 1821.0,\n",
              " 5.0,\n",
              " 1.0,\n",
              " 1840.0,\n",
              " 3777,\n",
              " 80.0,\n",
              " 100.0,\n",
              " 30,\n",
              " 1839.0,\n",
              " 741.0,\n",
              " 22,\n",
              " 1840.0,\n",
              " 14000,\n",
              " 120,\n",
              " 1,\n",
              " 1840.0,\n",
              " 3,\n",
              " 4,\n",
              " 1,\n",
              " 1.0,\n",
              " 1840.0,\n",
              " 2.0,\n",
              " 1.0,\n",
              " 361.0,\n",
              " 1.0,\n",
              " 307.0,\n",
              " 6.0,\n",
              " 604.0,\n",
              " 1.0,\n",
              " 2.0,\n",
              " 418.0,\n",
              " 422.0,\n",
              " 7.0,\n",
              " 34.0,\n",
              " 41.0,\n",
              " 167.0,\n",
              " 742.0,\n",
              " 3.0,\n",
              " 112.0,\n",
              " 207.0,\n",
              " 3.0,\n",
              " 338.0,\n",
              " 424.0,\n",
              " 5.0,\n",
              " 26.0,\n",
              " 13.0,\n",
              " 235.0,\n",
              " 8.0,\n",
              " 693.0,\n",
              " 4.0,\n",
              " 1821.0,\n",
              " 167.0,\n",
              " 2.0,\n",
              " 2.0,\n",
              " 216.0,\n",
              " 3.0,\n",
              " 66.0,\n",
              " 4.0,\n",
              " 130.0,\n",
              " 29.0,\n",
              " 2.0,\n",
              " 241.0,\n",
              " 2.0,\n",
              " 332.0,\n",
              " 2.0,\n",
              " 422.0,\n",
              " 9.0,\n",
              " 112.0,\n",
              " 743.0,\n",
              " 9.0,\n",
              " 39.0,\n",
              " 14000,\n",
              " 1840.0,\n",
              " 744.0,\n",
              " 5.0,\n",
              " 182.0,\n",
              " 3.0,\n",
              " 368.0,\n",
              " 1.0,\n",
              " 397.0,\n",
              " 6.0,\n",
              " 604.0,\n",
              " 1,\n",
              " 1821.0,\n",
              " 167.0,\n",
              " 745.0,\n",
              " 4.0,\n",
              " 746.0,\n",
              " 4.0,\n",
              " 210.0,\n",
              " 46.0,\n",
              " 747.0,\n",
              " 5.0,\n",
              " 5.0,\n",
              " 740.0,\n",
              " 1843.0,\n",
              " 284.0,\n",
              " 2019.0,\n",
              " 9.0,\n",
              " 1.0,\n",
              " 55.0,\n",
              " 266.0,\n",
              " 271.0,\n",
              " 1876.0,\n",
              " 2.0,\n",
              " 47.0,\n",
              " 362.0,\n",
              " 376.0,\n",
              " 1872.0,\n",
              " 3.0,\n",
              " 45.0,\n",
              " 329.0,\n",
              " 334.0,\n",
              " 1871.0,\n",
              " 4.0,\n",
              " 31.0,\n",
              " 526.0,\n",
              " 527.0,\n",
              " 1858.0,\n",
              " 5.0,\n",
              " 21.0,\n",
              " 333.0,\n",
              " 335.0,\n",
              " 1852.0,\n",
              " 6.0,\n",
              " 8.0,\n",
              " 145.0,\n",
              " 147.0,\n",
              " 1857.0,\n",
              " 7.0,\n",
              " 65.0,\n",
              " 256.0,\n",
              " 258.0,\n",
              " 3,\n",
              " 1880.0,\n",
              " 8.0,\n",
              " 4.0,\n",
              " 913.0,\n",
              " 914.0,\n",
              " 1887.0,\n",
              " 9.0,\n",
              " 103.0,\n",
              " 464.0,\n",
              " 1936.0,\n",
              " 3.0,\n",
              " 1.0,\n",
              " 9.0,\n",
              " 39.0,\n",
              " 1828.0,\n",
              " 2.0,\n",
              " 2.0,\n",
              " 5.0,\n",
              " 182.0,\n",
              " 1837.0,\n",
              " 2.0,\n",
              " 3.0,\n",
              " 9.0,\n",
              " 108.0,\n",
              " 1812.0,\n",
              " 6,\n",
              " 1,\n",
              " 2.0]"
            ]
          },
          "metadata": {
            "tags": []
          },
          "execution_count": 10
        }
      ]
    },
    {
      "cell_type": "code",
      "metadata": {
        "id": "KJpfhhzRk32l",
        "outputId": "d8b54292-4c2a-4873-d72d-442f7be87348",
        "colab": {
          "base_uri": "https://localhost:8080/",
          "height": 54
        }
      },
      "source": [
        "import lexnlp.extract.en.citations\n",
        "print(list(lexnlp.extract.en.citations.get_citations(t)))"
      ],
      "execution_count": 11,
      "outputs": [
        {
          "output_type": "stream",
          "text": [
            "[(5, 'Ala.', 'Alabama Reports', 740, None, None, None), (5, 'Ala.', 'Alabama Reports', 740, '1843', None, None), (55, 'Ala.', 'Alabama Reports', 266, '271', None, None), (47, 'Ala.', 'Alabama Reports', 362, '376', None, None), (45, 'Ala.', 'Alabama Reports', 329, '334', None, None), (31, 'Ala.', 'Alabama Reports', 526, '527', None, None), (21, 'Ala.', 'Alabama Reports', 333, '335', None, None), (8, 'Cal.', 'California Reports', 145, '147', None, None), (65, 'Ala.', 'Alabama Reports', 256, '258', None, None), (4, 'S.W.', 'South Western Reporter', 913, '914', None, None), (103, 'A.L.R.', 'American Law Reports', 464, None, None, None), (9, 'Cow.', \"Cowen's Reports\", 39, None, None, None), (5, 'Port.', 'Alabama Reports, Porter', 182, None, None, None), (9, 'Johns.', \"Johnson's Reports\", 108, None, None, None)]\n"
          ],
          "name": "stdout"
        }
      ]
    },
    {
      "cell_type": "code",
      "metadata": {
        "id": "q0LahpjNk-wm",
        "outputId": "e865eaa2-dc53-4feb-efd6-fe6c4834df41",
        "colab": {
          "base_uri": "https://localhost:8080/",
          "height": 34
        }
      },
      "source": [
        "import lexnlp.extract.en.entities.nltk_re\n",
        "print(list(lexnlp.extract.en.entities.nltk_re.get_companies(t)))"
      ],
      "execution_count": 12,
      "outputs": [
        {
          "output_type": "stream",
          "text": [
            "[Lehman, Durr Co, (17983, 18001)]\n"
          ],
          "name": "stdout"
        }
      ]
    },
    {
      "cell_type": "code",
      "metadata": {
        "id": "5hjeck5ElAG7",
        "outputId": "fb653fc0-2d0b-46eb-824c-d8d96c1fd4ba",
        "colab": {
          "base_uri": "https://localhost:8080/",
          "height": 54
        }
      },
      "source": [
        "\n",
        "import lexnlp.extract.en.conditions\n",
        "print(list(lexnlp.extract.en.conditions.get_conditions(t)))"
      ],
      "execution_count": 13,
      "outputs": [
        {
          "output_type": "stream",
          "text": [
            "[('until', '[2]\\nCreditors’ Remedies\\nLien and Priority\\nUnder St.1821, prohibiting a levy on a crop', ''), ('until', 'on a growing crop, nor does such lien attach', ''), ('if', 'It was proved by the claimants, by the production of a written contract, that Harrison, on the twenty-second of May, 1840, in consideration that the claimants were involved, as indorsers for Burton & Harrison of Sumter county, and were then exposed to an execution, amounting to upwards of fourteen thousand dollars, bargained and sold to the claimants all his growing crop of cotton &c., consisting of one hundred and twenty acres, &c. Allen Harrison promised and obliged himself to give up his crop to the use of the claimants at any time to save them from suffering as his indorsers;', ''), ('when', 'The claimants came from Tennessee, (where they resided) about the first of September, 1840, bringing with them three or four white laborers, and took possession of the crop and slaves, and with the latter, and white laborers, gathered the cotton, prepared it for market, and', ''), ('if', 'The court charged the jury, that the plaintiff had no lien by virtue of his judgment, and execution on the growing crop; that Harrison had a right to convey it, without being in any manner restrained by them; that the writing adduced, was a sale of the crop, but', ''), ('when', 'it was not, and the lien of the fieri facias would have attached upon it,', ''), ('if', 'gathered, yet', ''), ('not subject to', 'the claimants obtained possession on the first of September, and controlled the gathering of the crop, then no lien attached, and it was', ''), ('until', 'Rep, 693;] and', ''), ('until', '167,] which declares it to be lawful to levy an execution on a planted crop,', ''), ('if', 'It is admitted that the contract between the defendant in execution, and the claimants, was in good faith,', ''), ('when', 'The defendant in execution might at any time have divested the interest which the contract vested in the claimants, by discharging their liability as his indorsers, or a judgment creditor might have satisfied the lien, and', ''), ('unless', 'We will then consider the writing under which the claimants assert a right, as a mortgage with a power to take possession any time during the year,', ''), ('if', 'Conceding the truth of the facts stated in the bill of exceptions, and we think it will not follow, that the possession of the claimants is a nullity, and that the case must be considered as', ''), ('if', 'The contract contains an express undertaking to give up the crop at any time the claimants might require it for their indemnity, and', ''), ('if', 'they took possession of it in the absence of the grantor, (though without his consent,)', ''), ('if', 'he subsequently acquiesced in it, the inference would be,', ''), ('subject to', 'Mr. Dane, in remarking upon this point, says, “The American editor of Bacon’s Abridgment, says, ‘Wheat growing in the ground is a chattel, and', ''), ('until', 'The first section of the act of 1821, “To prevent sheriffs and other officers from levying executions in certain cases, enacts, that “It shall not be lawful for any sheriff or other officer, to levy a writ of fieri facias or other execution on the planted crop of a debtor, or person against whom an execution may issue,', ''), ('until', 'Now here is an express inhibition to levy an execution on a crop while it remains on, or in the ground, and', ''), ('until', 'If so, the act cited, will only have the effect of keeping the right to levy it in abeyance', ''), ('if', 'The lien and the right to levy are intimately connected, and', ''), ('until', 'That it was competent for the legislature to have made it unlawful to levy an execution on particular property,', ''), ('until', 'If the object was merely to suspend the sale,', ''), ('as soon as', 'The idea that the lien attached upon the planted crop', ''), ('until', 'the execution was delivered to the sheriff, though the right to levy it was postponed', ''), ('if', 'They do not refer to the lien,', ''), ('until', 'they did they would postpone it', ''), ('until', 'the crop was gathered; but it is the levy they relate to and postpone', ''), ('until', '**4 The right to levy an execution on a planted crop, then, being expressly taken away by the statute, the lien which is connected with and consequent upon that right, never attaches', ''), ('if', 'The circuit judge may have mistaken the law in supposing that the contract was a sale, but', ''), ('when', 'There is no assumption of any material fact in the charge; but the possession of the claimant, the time', ''), ('if', 'acquired, the gathering of the crop, &c., are all referred to the determination of the jury; who are instructed,', ''), ('until', '**4 The statute which presents the question before the court is, that “it shall not be lawful for any sheriff or other officer to levy a writ of fieei facias or other execution, on the planted crop of a debtor, or person against whom an execution may issue,', ''), ('subject to', 'The policy of the State, as indicated by these statutes, is undeniably that all the property of a debtor, real and personal, to which he has a legal title, shall be', ''), ('until', 'The mischief which the statute designed to remedy was, the sacrifice which would be necessarily made by the sale of an immature crop: the statute enables the debtor to retain it', ''), ('if', '**5', ''), ('until', 'The sheriff is forbidden to levy on a “planted crop”', ''), ('if', 'Now,', ''), ('until', 'This, I feel a thorough conviction, was not the intention of the legislature; but that it was to secure him from loss, by prohibiting a levy and sale of the crop,', ''), ('when', 'it was gathered,', ''), ('subject to', 'Growing crops as', ''), ('subject to', '464\\nGenerally, at common law, growing crops raised by annual planting, while still attached to the soil, are regarded as personal chattels,', ''), ('where', 'And', '')]\n"
          ],
          "name": "stdout"
        }
      ]
    },
    {
      "cell_type": "code",
      "metadata": {
        "id": "Z6laeSFxlEWH",
        "outputId": "f3ed77e9-b22a-4845-d9fa-c0b7bef53b1d",
        "colab": {
          "base_uri": "https://localhost:8080/",
          "height": 530
        }
      },
      "source": [
        "import lexnlp.extract.en.constraints\n",
        "list(lexnlp.extract.en.constraints.get_constraints(t))"
      ],
      "execution_count": 14,
      "outputs": [
        {
          "output_type": "execute_result",
          "data": {
            "text/plain": [
              "[('after', 'on a growing crop, nor does such lien attach until', ''),\n",
              " ('after',\n",
              "  '',\n",
              "  ' and that alias and pluries fieri facias’, issued regularly up to the time levy was made; that the cotton levied on was growed on the plantation of harrison, and cultivated by the hands in his service.'),\n",
              " ('first of',\n",
              "  'the claimants came from tennessee, (where they resided) about the',\n",
              "  ''),\n",
              " ('first of',\n",
              "  'the court charged the jury, that the plaintiff had no lien by virtue of his judgment, and execution on the growing crop; that harrison had a right to convey it, without being in any manner restrained by them; that the writing adduced, was a sale of the crop, but if it was not, and the lien of the fieri facias would have attached upon it, when gathered, yet if the claimants obtained possession on the',\n",
              "  ''),\n",
              " ('after',\n",
              "  'it merely inhibits the levy, but the lien attaches, and a levy and sale may be made',\n",
              "  ''),\n",
              " ('more than',\n",
              "  'taking this to be clear *744 law, and it will be seen, that the defendant in execution at the time of the levy had nothing',\n",
              "  ''),\n",
              " ('before',\n",
              "  'it has been frequently mooted whether, at common law, corn, &c.,',\n",
              "  ''),\n",
              " ('before', '**4 the statute which presents the question', ''),\n",
              " ('after',\n",
              "  'now, if the view taken by the majority of the court, is correct, the right secured to the plaintiff in execution, of levying on the crop',\n",
              "  ''),\n",
              " ('before', 'tried', ''),\n",
              " ('before', 'tried', ''),\n",
              " ('before', 'tried', ''),\n",
              " ('before', 'tried', ''),\n",
              " ('before', 'tried', ''),\n",
              " ('before', 'tried', '')]"
            ]
          },
          "metadata": {
            "tags": []
          },
          "execution_count": 14
        }
      ]
    },
    {
      "cell_type": "code",
      "metadata": {
        "id": "44R8ZhL1lK0D",
        "outputId": "d52f56d6-3502-4043-d6fa-08120fb53cdb",
        "colab": {
          "base_uri": "https://localhost:8080/",
          "height": 34
        }
      },
      "source": [
        "import  lexnlp.extract.en.copyright\n",
        "print(list(lexnlp.extract.en.copyright.get_copyright(t)))"
      ],
      "execution_count": 15,
      "outputs": [
        {
          "output_type": "stream",
          "text": [
            "[('©', '2019', 'Thomson Reuters. No')]\n"
          ],
          "name": "stdout"
        }
      ]
    },
    {
      "cell_type": "code",
      "metadata": {
        "id": "dt57Lwz1lQMk",
        "outputId": "572bfe58-35a5-40d9-b319-da51b01b1c0f",
        "colab": {
          "base_uri": "https://localhost:8080/",
          "height": 34
        }
      },
      "source": [
        "import lexnlp.extract.en.courts\n",
        "court_config_data = []\n",
        "print(list(lexnlp.extract.en.courts.get_courts(t,court_config_data)))"
      ],
      "execution_count": 16,
      "outputs": [
        {
          "output_type": "stream",
          "text": [
            "[]\n"
          ],
          "name": "stdout"
        }
      ]
    },
    {
      "cell_type": "code",
      "metadata": {
        "id": "zAYuyElVlUaV",
        "outputId": "2244c94e-4f79-42be-c003-65a2ad0e2735",
        "colab": {
          "base_uri": "https://localhost:8080/",
          "height": 34
        }
      },
      "source": [
        "import lexnlp.extract.en.cusip\n",
        "print(lexnlp.extract.en.cusip.get_cusip(t))"
      ],
      "execution_count": 17,
      "outputs": [
        {
          "output_type": "stream",
          "text": [
            "<generator object get_cusip at 0x7f1ba08e9570>\n"
          ],
          "name": "stdout"
        }
      ]
    },
    {
      "cell_type": "code",
      "metadata": {
        "id": "OWPVSeihlXtm",
        "outputId": "7d94f204-f0e4-4356-dc82-bedbc0588e87",
        "colab": {
          "base_uri": "https://localhost:8080/",
          "height": 156
        }
      },
      "source": [
        "\n",
        "import lexnlp.extract.en.dates\n",
        "print(list(lexnlp.extract.en.dates.get_dates(t)))"
      ],
      "execution_count": 18,
      "outputs": [
        {
          "output_type": "stream",
          "text": [
            "/usr/local/lib/python3.6/dist-packages/sklearn/base.py:318: UserWarning: Trying to unpickle estimator SelectKBest from version 0.23.1 when using version 0.22.2.post1. This might lead to breaking code or invalid results. Use at your own risk.\n",
            "  state = self.__dict__.copy()\n",
            "/usr/local/lib/python3.6/dist-packages/sklearn/base.py:318: UserWarning: Trying to unpickle estimator LogisticRegressionCV from version 0.23.1 when using version 0.22.2.post1. This might lead to breaking code or invalid results. Use at your own risk.\n",
            "  state = self.__dict__.copy()\n",
            "/usr/local/lib/python3.6/dist-packages/sklearn/base.py:318: UserWarning: Trying to unpickle estimator Pipeline from version 0.23.1 when using version 0.22.2.post1. This might lead to breaking code or invalid results. Use at your own risk.\n",
            "  state = self.__dict__.copy()\n"
          ],
          "name": "stderr"
        },
        {
          "output_type": "stream",
          "text": [
            "[datetime.date(2020, 6, 1), datetime.date(1840, 11, 1), datetime.date(1839, 10, 1), datetime.date(1840, 9, 1), datetime.date(1840, 5, 1), datetime.date(1840, 5, 1), datetime.date(2020, 12, 1), datetime.date(2020, 12, 1), datetime.date(2020, 1, 1), datetime.date(2020, 1, 1), datetime.date(2020, 1, 1), datetime.date(2020, 3, 21), datetime.date(2020, 6, 1), datetime.date(2020, 7, 1), datetime.date(2020, 11, 1)]\n"
          ],
          "name": "stdout"
        }
      ]
    },
    {
      "cell_type": "code",
      "metadata": {
        "id": "MyTosVaylbH5",
        "outputId": "26beab8f-49b1-4837-ce1b-eb4a56add212",
        "colab": {
          "base_uri": "https://localhost:8080/",
          "height": 34
        }
      },
      "source": [
        "\n",
        "import lexnlp.extract.en.definitions\n",
        "print(list(lexnlp.extract.en.definitions.get_definitions(t)))"
      ],
      "execution_count": 19,
      "outputs": [
        {
          "output_type": "stream",
          "text": [
            "[]\n"
          ],
          "name": "stdout"
        }
      ]
    },
    {
      "cell_type": "code",
      "metadata": {
        "id": "JvaCmfJnleMH",
        "outputId": "b7532c11-b98a-470c-9adb-ac70845bbbde",
        "colab": {
          "base_uri": "https://localhost:8080/",
          "height": 34
        }
      },
      "source": [
        "import lexnlp.extract.en.distances\n",
        "print(list(lexnlp.extract.en.distances.get_distances(t)))"
      ],
      "execution_count": 20,
      "outputs": [
        {
          "output_type": "stream",
          "text": [
            "[]\n"
          ],
          "name": "stdout"
        }
      ]
    },
    {
      "cell_type": "code",
      "metadata": {
        "id": "0kSRXPMJlhfg",
        "outputId": "83fa79ac-10c8-4099-9bee-160e02351417",
        "colab": {
          "base_uri": "https://localhost:8080/",
          "height": 34
        }
      },
      "source": [
        "import lexnlp.extract.en.durations\n",
        "print(list(lexnlp.extract.en.durations.get_durations(t)))"
      ],
      "execution_count": 21,
      "outputs": [
        {
          "output_type": "stream",
          "text": [
            "[('second', 20.0, 0.00023148148148148146), ('year', 6.0, 2190.0)]\n"
          ],
          "name": "stdout"
        }
      ]
    },
    {
      "cell_type": "code",
      "metadata": {
        "id": "TUDzeAuHlmbD",
        "outputId": "e3e9eb1e-f07a-4eb6-900e-f40eb6ea9304",
        "colab": {
          "base_uri": "https://localhost:8080/",
          "height": 34
        }
      },
      "source": [
        "import lexnlp.extract.en.geoentities\n",
        "geo_config_list = []\n",
        "print(list(lexnlp.extract.en.geoentities.get_geoentities(t,geo_config_list)))"
      ],
      "execution_count": 22,
      "outputs": [
        {
          "output_type": "stream",
          "text": [
            "[]\n"
          ],
          "name": "stdout"
        }
      ]
    },
    {
      "cell_type": "code",
      "metadata": {
        "id": "-D6dk3M7lrAa",
        "outputId": "66e50d60-663b-4a4a-9143-c056b4cc9185",
        "colab": {
          "base_uri": "https://localhost:8080/",
          "height": 34
        }
      },
      "source": [
        "import lexnlp.extract.en.money\n",
        "print(list(lexnlp.extract.en.money.get_money(t)))"
      ],
      "execution_count": 23,
      "outputs": [
        {
          "output_type": "stream",
          "text": [
            "[(100.0, 'USD'), (14000, 'USD'), (14000, 'USD')]\n"
          ],
          "name": "stdout"
        }
      ]
    },
    {
      "cell_type": "code",
      "metadata": {
        "id": "GsWoMHjCluCm",
        "outputId": "8419a488-bb6a-4456-9138-e90c6f0fc09e",
        "colab": {
          "base_uri": "https://localhost:8080/",
          "height": 34
        }
      },
      "source": [
        "import lexnlp.extract.en.percents\n",
        "print(list(lexnlp.extract.en.percents.get_percents(t)))\n"
      ],
      "execution_count": 24,
      "outputs": [
        {
          "output_type": "stream",
          "text": [
            "[]\n"
          ],
          "name": "stdout"
        }
      ]
    },
    {
      "cell_type": "code",
      "metadata": {
        "id": "T_pfssVDlyqy",
        "outputId": "c756528a-01e3-44e2-ae30-711932867d9e",
        "colab": {
          "base_uri": "https://localhost:8080/",
          "height": 34
        }
      },
      "source": [
        "import lexnlp.extract.en.pii\n",
        "print(list(lexnlp.extract.en.pii.get_pii(t)))"
      ],
      "execution_count": 25,
      "outputs": [
        {
          "output_type": "stream",
          "text": [
            "[]\n"
          ],
          "name": "stdout"
        }
      ]
    },
    {
      "cell_type": "code",
      "metadata": {
        "id": "9wkZ84BJl1aK",
        "outputId": "dbcf3634-b0fc-4e2e-df46-72c414a46fca",
        "colab": {
          "base_uri": "https://localhost:8080/",
          "height": 34
        }
      },
      "source": [
        "import lexnlp.extract.en.ratios\n",
        "print(list(lexnlp.extract.en.ratios.get_ratios(t)))"
      ],
      "execution_count": 26,
      "outputs": [
        {
          "output_type": "stream",
          "text": [
            "[]\n"
          ],
          "name": "stdout"
        }
      ]
    },
    {
      "cell_type": "code",
      "metadata": {
        "id": "O71VhIyGl5dj",
        "outputId": "1730d0af-46ee-4ffc-e783-24bf152914eb",
        "colab": {
          "base_uri": "https://localhost:8080/",
          "height": 34
        }
      },
      "source": [
        "import lexnlp.extract.en.regulations\n",
        "print(list(lexnlp.extract.en.regulations.get_regulations(t)))"
      ],
      "execution_count": 27,
      "outputs": [
        {
          "output_type": "stream",
          "text": [
            "[]\n"
          ],
          "name": "stdout"
        }
      ]
    },
    {
      "cell_type": "code",
      "metadata": {
        "id": "D9dWzxqwl819",
        "outputId": "7466b4ed-ac40-43f1-fdc0-04bc66f4d440",
        "colab": {
          "base_uri": "https://localhost:8080/",
          "height": 34
        }
      },
      "source": [
        "import lexnlp.extract.en.trademarks\n",
        "print(list(lexnlp.extract.en.trademarks.get_trademarks(t)))"
      ],
      "execution_count": 28,
      "outputs": [
        {
          "output_type": "stream",
          "text": [
            "[]\n"
          ],
          "name": "stdout"
        }
      ]
    },
    {
      "cell_type": "code",
      "metadata": {
        "id": "0jisJx_wmAed",
        "outputId": "8cd3bd0a-fb68-4749-d262-b4e696037f21",
        "colab": {
          "base_uri": "https://localhost:8080/",
          "height": 34
        }
      },
      "source": [
        "import lexnlp.extract.en.urls\n",
        "print(list(lexnlp.extract.en.urls.get_urls(t)))"
      ],
      "execution_count": 29,
      "outputs": [
        {
          "output_type": "stream",
          "text": [
            "[]\n"
          ],
          "name": "stdout"
        }
      ]
    },
    {
      "cell_type": "code",
      "metadata": {
        "id": "D9JHGIFgmE0Q",
        "outputId": "1f2a3662-f5d2-4690-e90d-a0e86997b8ea",
        "colab": {
          "base_uri": "https://localhost:8080/",
          "height": 1000
        }
      },
      "source": [
        "d = n(t)\n",
        "address = []\n",
        "persons = []\n",
        "for i in d.ents:\n",
        "   if i.label_=='ADDRESS':\n",
        "    address.append(i)\n",
        "   if i.label_ =='PERSON':\n",
        "    persons.append (i)\n",
        "print(address)\n",
        "print(set(persons))\n",
        "for i in d.ents:\n",
        "  print(i.text, i.start_char, i.end_char, i.label_)"
      ],
      "execution_count": 30,
      "outputs": [
        {
          "output_type": "stream",
          "text": [
            "[]\n",
            "{Mansony, W. M. MURPHY, Dec Term, Marshall, L. WHITLOCK, Hurtell, Perkins, M. J. SAFFOLD, Whipple v. Foot, Dewey v. Bowman, lien, lien, Bibb, Mayfield, Lien, Allen Harrison, Austin, Whipple v. Foot, Poole, lien, Edwards, McKenzie, Evans, R. H. SMITH, Jones, Booker, Elliott v. Mayfield, Cohen, JOHN D. CUNNINGHAM, JOHN D. CUNNINGHAM, Hon, Jun Term 1852, lien, Sawyer, Doughty, Stewart, Allen Harrison, Stewart v. Doughty, lien, Jacob S. Cohen, lien, lien attach, W. G. JONES, A. quit-claimed, Austin v. Sawyer, W., St.1821, Allen Harrison, lien, lien, lien, Dane, Wood, Whipple v. Foot, lien, C. J.}\n",
            "Supreme Court 12 25 ORG\n",
            "Alabama 29 36 GPE\n",
            "June Term, 66 76 DATE\n",
            "1843 77 81 DATE\n",
            "the Circuit Court of Sumter 109 136 ORG\n",
            "West Headnotes 142 156 GPE\n",
            "2 158 159 CARDINAL\n",
            "1 164 165 CARDINAL\n",
            "4 376 377 CARDINAL\n",
            "2 410 411 CARDINAL\n",
            "Lien 433 437 PERSON\n",
            "St.1821 457 464 PERSON\n",
            "lien 526 530 PERSON\n",
            "lien attach 595 606 PERSON\n",
            "5 647 648 CARDINAL\n",
            "1 682 683 CARDINAL\n",
            "November, 1840 748 762 DATE\n",
            "Sumter 810 816 ORG\n",
            "Allen Harrison 925 939 PERSON\n",
            "thirty-seven hundred and seventy-seven 963 1001 CARDINAL\n",
            "thirty bales 1062 1074 QUANTITY\n",
            "Allen Harrison 1105 1119 PERSON\n",
            "October, 1839 1437 1450 DATE\n",
            "741 1471 1474 CARDINAL\n",
            "7th 1501 1504 ORDINAL\n",
            "Harrison 1669 1677 GPE\n",
            "Harrison 1801 1809 ORG\n",
            "May, 1840 1835 1844 DATE\n",
            "Burton & Harrison 1914 1931 ORG\n",
            "fourteen thousand dollars 2013 2038 MONEY\n",
            "cotton &c. 2100 2110 ORG\n",
            "one hundred and 2126 2141 CARDINAL\n",
            "twenty acres 2142 2154 QUANTITY\n",
            "Allen Harrison 2160 2174 PERSON\n",
            "Gainesville 2385 2396 GPE\n",
            "Tennessee 2422 2431 GPE\n",
            "September, 1840 2473 2488 DATE\n",
            "three 2509 2514 CARDINAL\n",
            "four 2518 2522 CARDINAL\n",
            "Gainesville 2715 2726 GPE\n",
            "Harrison 2757 2765 ORG\n",
            "Harrison 3061 3069 ORG\n",
            "the first of September 3334 3356 DATE\n",
            "R. H. SMITH 3483 3494 PERSON\n",
            "Harrison 3568 3576 GPE\n",
            "May, 1840 3587 3596 DATE\n",
            "2 3681 3682 CARDINAL\n",
            "1 3748 3749 CARDINAL\n",
            "361 3761 3764 CARDINAL\n",
            "1 3766 3767 CARDINAL\n",
            "307 3783 3786 CARDINAL\n",
            "6 3788 3789 CARDINAL\n",
            "East 3790 3794 LOC\n",
            "604 3802 3805 CARDINAL\n",
            "1 3812 3813 CARDINAL\n",
            "2 3815 3816 CARDINAL\n",
            "Johns 3817 3822 GPE\n",
            "418 3829 3832 CARDINAL\n",
            "422 3834 3837 CARDINAL\n",
            "7 Mass. Rep. 34 3839 3854 DATE\n",
            "167 3895 3898 CARDINAL\n",
            "742 3931 3934 CARDINAL\n",
            "lien 4038 4042 PERSON\n",
            "3 4126 4127 CARDINAL\n",
            "Harrison 4255 4263 ORG\n",
            "112 4341 4344 CARDINAL\n",
            "207 4346 4349 CARDINAL\n",
            "3 4351 4352 CARDINAL\n",
            "Johns 4353 4358 GPE\n",
            "338 4365 4368 CARDINAL\n",
            "424 4370 4373 CARDINAL\n",
            "5 4375 4376 CARDINAL\n",
            "26 4388 4390 CARDINAL\n",
            "13 4392 4394 CARDINAL\n",
            "Johns 4395 4400 GPE\n",
            "235 4407 4410 CARDINAL\n",
            "8 4412 4413 CARDINAL\n",
            "693 4425 4428 CARDINAL\n",
            "Harrison 4529 4537 ORG\n",
            "W. M. MURPHY 4728 4740 PERSON\n",
            "W. G. JONES 4756 4767 PERSON\n",
            "1821 4805 4809 DATE\n",
            "lien 4943 4947 PERSON\n",
            "lien 5117 5121 PERSON\n",
            "lien 5311 5315 PERSON\n",
            "Whipple v. Foot 5346 5361 WORK_OF_ART\n",
            "2 5363 5364 CARDINAL\n",
            "Johns 5365 5370 GPE\n",
            "216 5377 5380 CARDINAL\n",
            "3 5382 5383 CARDINAL\n",
            "4 5405 5406 CARDINAL\n",
            "130 5417 5420 CARDINAL\n",
            "COLLIER 5652 5659 ORG\n",
            "C. J. 5661 5666 PERSON\n",
            "29 6040 6042 CARDINAL\n",
            "2 6049 6050 CARDINAL\n",
            "241 6134 6137 CARDINAL\n",
            "332 6141 6144 CARDINAL\n",
            "Whipple v. Foot 6146 6161 PERSON\n",
            "2 6163 6164 CARDINAL\n",
            "Johns 6165 6170 GPE\n",
            "422 6177 6180 CARDINAL\n",
            "Stewart v. Doughty 6182 6200 PERSON\n",
            "9 6202 6203 CARDINAL\n",
            "Johns 6204 6209 GPE\n",
            "112 6216 6219 CARDINAL\n",
            "743 6222 6225 CARDINAL\n",
            "Austin v. Sawyer 6226 6242 PERSON\n",
            "9 6244 6245 CARDINAL\n",
            "39 6256 6258 CARDINAL\n",
            "Ravesies 6269 6277 ORG\n",
            "fourteen thousand dollars 6583 6608 MONEY\n",
            "lien 7062 7066 PERSON\n",
            "the year 7288 7296 DATE\n",
            "lien 7676 7680 PERSON\n",
            "May, 1840 7731 7740 DATE\n",
            "744 8748 8751 CARDINAL\n",
            "Elliott v. Mayfield 9099 9118 PERSON\n",
            "5 9120 9121 CARDINAL\n",
            "Porter 9122 9128 ORG\n",
            "182 9136 9139 CARDINAL\n",
            "3 9144 9145 CARDINAL\n",
            "Dane 9429 9433 PERSON\n",
            "American 9476 9484 NORP\n",
            "Bacon 9495 9500 ORG\n",
            "Whipple v. Foot 9822 9837 PERSON\n",
            "Poole 9854 9859 PERSON\n",
            "368 9874 9877 CARDINAL\n",
            "1 9879 9880 CARDINAL\n",
            "6 9896 9897 CARDINAL\n",
            "East 9898 9902 LOC\n",
            "604 9904 9907 CARDINAL\n",
            "Whipple v. Foot 9917 9932 PERSON\n",
            "first 10266 10271 ORDINAL\n",
            "1821 10294 10298 DATE\n",
            "167 10623 10626 CARDINAL\n",
            "745 11254 11257 CARDINAL\n",
            "lien 11272 11276 PERSON\n",
            "Mansony 11472 11479 PERSON\n",
            "Hurtell 11484 11491 PERSON\n",
            "the Bank of the United States 11517 11546 ORG\n",
            "Wood 11662 11666 PERSON\n",
            "lien 13579 13583 PERSON\n",
            "746 13809 13812 CARDINAL\n",
            "ORMOND 14537 14543 ORG\n",
            "Clay 14836 14840 ORG\n",
            "210 14848 14851 CARDINAL\n",
            "State 15287 15292 ORG\n",
            "lien 15862 15866 PERSON\n",
            "747 16168 16171 CARDINAL\n",
            "5 16277 16278 CARDINAL\n",
            "284 17604 17607 CARDINAL\n",
            "2019 17626 17630 DATE\n",
            "Thomson Reuters 17631 17646 ORG\n",
            "U.S. Government Works 17669 17690 ORG\n",
            "Citing References 17692 17709 ORG\n",
            "9 17711 17712 CARDINAL\n",
            "1 17767 17768 CARDINAL\n",
            "Booker 17771 17777 PERSON\n",
            "Jones 17781 17786 PERSON\n",
            "55 Ala. 266 17795 17806 CARDINAL\n",
            "271 17808 17811 CARDINAL\n",
            "Ala. 17814 17818 GPE\n",
            "Conversion of Cotton 17830 17850 ORG\n",
            "the Circuit Court of Hale 17885 17910 ORG\n",
            "Hon 17929 17932 ORG\n",
            "M. J. SAFFOLD 17934 17947 PERSON\n",
            "Dec Term 17949 17957 PERSON\n",
            "1876 17958 17962 DATE\n",
            "2 17979 17980 CARDINAL\n",
            "Lehman, Durr & Co. 17983 18001 ORG\n",
            "Marshall 18005 18013 PERSON\n",
            "47 18014 18016 DATE\n",
            "362 18022 18025 CARDINAL\n",
            "376 18027 18030 CARDINAL\n",
            "Ala. 18033 18037 GPE\n",
            "TROVER FOR CONVERSION OF COTTON 18039 18070 WORK_OF_ART\n",
            "the City Court of Montgomery 18085 18113 ORG\n",
            "Hon 18128 18131 ORG\n",
            "JOHN D. CUNNINGHAM 18133 18151 PERSON\n",
            "1872 18162 18166 DATE\n",
            "3 18183 18184 CARDINAL\n",
            "Bibb 18187 18191 PERSON\n",
            "45 Ala. 329 18202 18213 CARDINAL\n",
            "334 18215 18218 CARDINAL\n",
            "Ala. 18221 18225 GPE\n",
            "WAIVER OF EXEMPTION 18247 18266 PRODUCT\n",
            "City Court of Montgomery 18281 18305 ORG\n",
            "JOHN D. CUNNINGHAM 18325 18343 PERSON\n",
            "4 18375 18376 CARDINAL\n",
            "McKenzie 18379 18387 PERSON\n",
            "Lampley 18391 18398 ORG\n",
            "31 Ala. 18399 18406 DATE\n",
            "526 18407 18410 CARDINAL\n",
            "527 18412 18415 CARDINAL\n",
            "Ala. 18418 18422 GPE\n",
            "TRIAL OF RIGHT OF PROPERTY IN COTTON 18424 18460 WORK_OF_ART\n",
            "the Circuit Court of Barbour 18475 18503 ORG\n",
            "Hon 18522 18525 PERSON\n",
            "Jan Term 1858 18539 18552 DATE\n",
            "5 18569 18570 DATE\n",
            "Evans 18573 18578 PERSON\n",
            "Lamar 18582 18587 GPE\n",
            "21 18588 18590 CARDINAL\n",
            "333 18596 18599 CARDINAL\n",
            "335 18601 18604 CARDINAL\n",
            "Ala. 18608 18612 GPE\n",
            "ERROR 18613 18618 PRODUCT\n",
            "the Circuit Court of Autauga 18622 18650 ORG\n",
            "Jun Term 1852 18687 18700 PERSON\n",
            "6 18718 18719 CARDINAL\n",
            "Dewey v. Bowman 18722 18737 PERSON\n",
            "8 18738 18739 CARDINAL\n",
            "145 18745 18748 CARDINAL\n",
            "147 18750 18753 CARDINAL\n",
            "Cal 18756 18759 GPE\n",
            "Court 18781 18786 ORG\n",
            "Jacob S. Cohen 18802 18816 PERSON\n",
            "Court 18892 18897 ORG\n",
            "Cohen 18913 18918 PERSON\n",
            "1857 18946 18950 DATE\n",
            "7 18971 18972 DATE\n",
            "65 Ala. 18989 18996 TIME\n",
            "256 18997 19000 CARDINAL\n",
            "258 19002 19005 CARDINAL\n",
            "Ala. 19008 19012 GPE\n",
            "Three Bales 19038 19049 QUANTITY\n",
            "Cotton 19053 19059 GPE\n",
            "the Circuit Court of Etowah 19073 19100 ORG\n",
            "L. WHITLOCK 19128 19139 PERSON\n",
            "8 19175 19176 DATE\n",
            "Edwards 19179 19186 PERSON\n",
            "Thompson 19190 19198 ORG\n",
            "4 19199 19200 CARDINAL\n",
            "913 19206 19209 CARDINAL\n",
            "914 19211 19214 CARDINAL\n",
            "Tenn. 19217 19222 GPE\n",
            "Weakley county 19250 19264 GPE\n",
            "May 1887 19266 19274 DATE\n",
            "9 19284 19285 CARDINAL\n",
            "103 19363 19366 CARDINAL\n",
            "464 19374 19377 CARDINAL\n",
            "annual 19428 19434 DATE\n",
            "1936 19562 19566 DATE\n",
            "ALR 19567 19570 ORG\n",
            "3 19597 19598 CARDINAL\n",
            "1 19667 19668 CARDINAL\n",
            "Austin 19671 19677 PERSON\n",
            "Sawyer 19681 19687 PERSON\n",
            "9 19688 19689 CARDINAL\n",
            "N.Y.Sup. 19699 19707 GPE\n",
            "1828 19709 19713 DATE\n",
            "A. quit-claimed 19815 19830 PERSON\n",
            "W. 19839 19841 PERSON\n",
            "2 19903 19904 CARDINAL\n",
            "2 19912 19913 CARDINAL\n",
            "Perkins 19916 19923 PERSON\n",
            "Mayfield 19927 19935 PERSON\n",
            "5 19936 19937 CARDINAL\n",
            "182 19944 19947 CARDINAL\n",
            "Ala. 19949 19953 GPE\n",
            "1837 19955 19959 DATE\n",
            "the Circuit Court of Tuskaloosa 19980 20011 ORG\n",
            "2 20018 20019 CARDINAL\n",
            "3 20031 20032 CARDINAL\n",
            "Stewart 20035 20042 PERSON\n",
            "Doughty 20046 20053 PERSON\n",
            "9 20054 20055 CARDINAL\n",
            "108 20063 20066 CARDINAL\n",
            "N.Y.Sup. 20068 20076 GPE\n",
            "1812 20078 20082 DATE\n",
            "six years 20107 20116 DATE\n",
            "A. 20122 20124 ORG\n",
            "half 20172 20176 CARDINAL\n",
            "each year 20244 20253 DATE\n",
            "2 20270 20271 CARDINAL\n"
          ],
          "name": "stdout"
        }
      ]
    }
  ]
}