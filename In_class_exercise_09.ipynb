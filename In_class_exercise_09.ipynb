{
  "nbformat": 4,
  "nbformat_minor": 0,
  "metadata": {
    "kernelspec": {
      "display_name": "Python 3",
      "language": "python",
      "name": "python3"
    },
    "language_info": {
      "codemirror_mode": {
        "name": "ipython",
        "version": 3
      },
      "file_extension": ".py",
      "mimetype": "text/x-python",
      "name": "python",
      "nbconvert_exporter": "python",
      "pygments_lexer": "ipython3",
      "version": "3.7.4"
    },
    "colab": {
      "name": "In_class_exercise_09.ipynb",
      "provenance": [],
      "toc_visible": true,
      "include_colab_link": true
    }
  },
  "cells": [
    {
      "cell_type": "markdown",
      "metadata": {
        "id": "view-in-github",
        "colab_type": "text"
      },
      "source": [
        "<a href=\"https://colab.research.google.com/github/riyazahmadshaik/computationalmethods-5731/blob/master/In_class_exercise_09.ipynb\" target=\"_parent\"><img src=\"https://colab.research.google.com/assets/colab-badge.svg\" alt=\"Open In Colab\"/></a>"
      ]
    },
    {
      "cell_type": "markdown",
      "metadata": {
        "id": "nAI5Jt3T5bIC"
      },
      "source": [
        "# **The ninth in-class-exercise (20 points in total, 11/11/2020)**"
      ]
    },
    {
      "cell_type": "markdown",
      "metadata": {
        "id": "BTo4Jbe35bIF"
      },
      "source": [
        "The purpose of the exercise is to practice different machine learning algorithms for text classification as well as the performance evaluation. In addition, you are requried to conduct *10 fold cross validation (https://scikit-learn.org/stable/modules/cross_validation.html)* in the training. \n",
        "\n",
        "The dataset can be download from here: https://github.com/unt-iialab/INFO5731_FALL2020/blob/master/In_class_exercise/exercise09_datacollection.zip. The dataset contains two files train data and test data for sentiment analysis in IMDB review, it has two categories: 1 represents positive and 0 represents negative. You need to split the training data into training and validate data (80% for training and 20% for validation, https://towardsdatascience.com/train-test-split-and-cross-validation-in-python-80b61beca4b6) and perform 10 fold cross validation while training the classifier. The final trained model was final evaluated on the test data. \n",
        "\n",
        "Algorithms:\n",
        "\n",
        "(1) MultinominalNB\n",
        "\n",
        "(2) SVM \n",
        "\n",
        "(3) KNN \n",
        "\n",
        "(4) Decision tree\n",
        "\n",
        "(5) Random Forest\n",
        "\n",
        "(6) XGBoost\n",
        "\n",
        "Evaluation measurement:\n",
        "\n",
        "(1) Accuracy\n",
        "\n",
        "(2) Recall\n",
        "\n",
        "(3) Precison \n",
        "\n",
        "(4) F-1 score"
      ]
    },
    {
      "cell_type": "code",
      "metadata": {
        "id": "FCTL9k1H5bIG"
      },
      "source": [
        "# Write your code here\n",
        "from sklearn.metrics import accuracy_score, recall_score, precision_score, f1_score\n",
        "from sklearn.naive_bayes import MultinomialNB\n",
        "from sklearn.neighbors import KNeighborsClassifier\n",
        "from sklearn.svm import SVC\n",
        "from sklearn.tree import DecisionTreeClassifier\n",
        "from sklearn.ensemble import RandomForestClassifier\n",
        "from sklearn.model_selection import train_test_split, cross_validate, StratifiedKFold\n",
        "from sklearn.feature_extraction.text import CountVectorizer\n",
        "from sklearn.pipeline import Pipeline\n",
        "import pandas as pd\n",
        "import numpy as np\n"
      ],
      "execution_count": 8,
      "outputs": []
    },
    {
      "cell_type": "code",
      "metadata": {
        "id": "AhF6CBf-5unB"
      },
      "source": [
        "with open('stsa-train.txt') as fin:\n",
        "    data = fin.readlines()\n",
        "with open('stsa-test.txt') as fin:\n",
        "    data.extend(fin.readlines())"
      ],
      "execution_count": 9,
      "outputs": []
    },
    {
      "cell_type": "code",
      "metadata": {
        "id": "fkyYUV22-XnF"
      },
      "source": [
        "target = [x[0] for x in data]\n",
        "text = [x.strip()[2:] for x in data]"
      ],
      "execution_count": 10,
      "outputs": []
    },
    {
      "cell_type": "code",
      "metadata": {
        "id": "UNPM9YKI-Z9d",
        "outputId": "bb2ce65a-416c-4d96-92e5-6421d7e54502",
        "colab": {
          "base_uri": "https://localhost:8080/",
          "height": 204
        }
      },
      "source": [
        "\n",
        "df = pd.DataFrame({'text' : text, 'target': target})\n",
        "df.head()"
      ],
      "execution_count": 11,
      "outputs": [
        {
          "output_type": "execute_result",
          "data": {
            "text/html": [
              "<div>\n",
              "<style scoped>\n",
              "    .dataframe tbody tr th:only-of-type {\n",
              "        vertical-align: middle;\n",
              "    }\n",
              "\n",
              "    .dataframe tbody tr th {\n",
              "        vertical-align: top;\n",
              "    }\n",
              "\n",
              "    .dataframe thead th {\n",
              "        text-align: right;\n",
              "    }\n",
              "</style>\n",
              "<table border=\"1\" class=\"dataframe\">\n",
              "  <thead>\n",
              "    <tr style=\"text-align: right;\">\n",
              "      <th></th>\n",
              "      <th>text</th>\n",
              "      <th>target</th>\n",
              "    </tr>\n",
              "  </thead>\n",
              "  <tbody>\n",
              "    <tr>\n",
              "      <th>0</th>\n",
              "      <td>a stirring , funny and finally transporting re...</td>\n",
              "      <td>1</td>\n",
              "    </tr>\n",
              "    <tr>\n",
              "      <th>1</th>\n",
              "      <td>apparently reassembled from the cutting-room f...</td>\n",
              "      <td>0</td>\n",
              "    </tr>\n",
              "    <tr>\n",
              "      <th>2</th>\n",
              "      <td>they presume their audience wo n't sit still f...</td>\n",
              "      <td>0</td>\n",
              "    </tr>\n",
              "    <tr>\n",
              "      <th>3</th>\n",
              "      <td>this is a visually stunning rumination on love...</td>\n",
              "      <td>1</td>\n",
              "    </tr>\n",
              "    <tr>\n",
              "      <th>4</th>\n",
              "      <td>jonathan parker 's bartleby should have been t...</td>\n",
              "      <td>1</td>\n",
              "    </tr>\n",
              "  </tbody>\n",
              "</table>\n",
              "</div>"
            ],
            "text/plain": [
              "                                                text target\n",
              "0  a stirring , funny and finally transporting re...      1\n",
              "1  apparently reassembled from the cutting-room f...      0\n",
              "2  they presume their audience wo n't sit still f...      0\n",
              "3  this is a visually stunning rumination on love...      1\n",
              "4  jonathan parker 's bartleby should have been t...      1"
            ]
          },
          "metadata": {
            "tags": []
          },
          "execution_count": 11
        }
      ]
    },
    {
      "cell_type": "code",
      "metadata": {
        "id": "i3j540Ua-eg9"
      },
      "source": [
        "from nltk import word_tokenize\n",
        "from string import punctuation"
      ],
      "execution_count": 12,
      "outputs": []
    },
    {
      "cell_type": "code",
      "metadata": {
        "id": "ybqqwjcJ-i4E"
      },
      "source": [
        "def remove_punctuation(row):\n",
        "    return [w for w in row if w not in punctuation]"
      ],
      "execution_count": 13,
      "outputs": []
    },
    {
      "cell_type": "code",
      "metadata": {
        "id": "haEDuNWO-mgi",
        "outputId": "738db0e4-8f23-469d-c05f-348bb60dae92",
        "colab": {
          "base_uri": "https://localhost:8080/"
        }
      },
      "source": [
        "import nltk\n",
        "nltk.download('punkt')\n",
        "df.text = df.text.apply(word_tokenize)\n",
        "df.text = df.text.apply(remove_punctuation)\n",
        "df.text = df.text.apply(lambda x: [w.lower() for w in x])"
      ],
      "execution_count": 14,
      "outputs": [
        {
          "output_type": "stream",
          "text": [
            "[nltk_data] Downloading package punkt to /root/nltk_data...\n",
            "[nltk_data]   Unzipping tokenizers/punkt.zip.\n"
          ],
          "name": "stdout"
        }
      ]
    },
    {
      "cell_type": "code",
      "metadata": {
        "id": "vWeNahnG_blH"
      },
      "source": [
        "X = df.text.apply(lambda x: ' '.join(x)).values\n",
        "y = df.target.apply(lambda x: int(x)).values"
      ],
      "execution_count": 15,
      "outputs": []
    },
    {
      "cell_type": "code",
      "metadata": {
        "id": "sEmFSA0g_guu"
      },
      "source": [
        "train_X, test_X, train_y, test_y = train_test_split(X, y,\n",
        "test_size=0.2, random_state=1)"
      ],
      "execution_count": 16,
      "outputs": []
    },
    {
      "cell_type": "code",
      "metadata": {
        "id": "VHCEuut2AW9U"
      },
      "source": [
        "try:\n",
        "    from xgboost import XGBClassifier\n",
        "except ImportError ('Installing XGBoost...'):\n",
        "    !pip install xgboost"
      ],
      "execution_count": 17,
      "outputs": []
    },
    {
      "cell_type": "code",
      "metadata": {
        "id": "MOqZC_EYAaVU"
      },
      "source": [
        "naive_bayes = MultinomialNB()\n",
        "svc = SVC()\n",
        "knn = KNeighborsClassifier()\n",
        "dt = DecisionTreeClassifier()\n",
        "rf = RandomForestClassifier()\n",
        "xgb = XGBClassifier()\n",
        "models = [naive_bayes, svc, knn, dt, rf, xgb]\n",
        "names = ['nb', 'svc', 'knn', 'dt', 'rf', 'xgb']\n",
        "estimators = []\n",
        "for name, model in zip(names, models):\n",
        "    clf = Pipeline([('vect', CountVectorizer()), (name, model)])\n",
        "    estimators.append(clf)"
      ],
      "execution_count": 18,
      "outputs": []
    },
    {
      "cell_type": "code",
      "metadata": {
        "id": "b4nwrMBfBopk"
      },
      "source": [
        "cv = StratifiedKFold(n_splits=10, shuffle=True, random_state=1)"
      ],
      "execution_count": 19,
      "outputs": []
    },
    {
      "cell_type": "code",
      "metadata": {
        "id": "Okpy2bKwBqJ8"
      },
      "source": [
        "scores = {name : None for name in names}\n",
        "scoring = {'accuracy_score' : 'accuracy',\n",
        "           'precision_score' : 'precision',\n",
        "           'recall_score' : 'recall', \n",
        "           'f1_score' : 'f1'}\n",
        "for name, clf in zip(names, estimators):\n",
        "    scores[name] = cross_validate(clf, train_X, train_y, cv=cv, scoring=scoring)"
      ],
      "execution_count": 20,
      "outputs": []
    },
    {
      "cell_type": "code",
      "metadata": {
        "id": "KrMcB6FKByqp"
      },
      "source": [
        "def get_dict():\n",
        "    return {name : None for name in names}\n",
        "accuracy_scores = get_dict()\n",
        "precision_scores = get_dict()\n",
        "recall_scores = get_dict()\n",
        "f1_scores = get_dict()\n",
        "estimator_names = list(scores.keys())\n",
        "for name in scores.keys():\n",
        "    for score, d in zip(['accuracy_score', 'precision_score',\n",
        "                         'recall_score', 'f1_score'],\n",
        "                        [accuracy_scores, precision_scores,\n",
        "                         recall_scores, f1_scores]):\n",
        "        score_name = 'test_' + score\n",
        "        d[name] = scores[name][score_name]"
      ],
      "execution_count": 21,
      "outputs": []
    },
    {
      "cell_type": "code",
      "metadata": {
        "id": "DOyJyP5FC3f-"
      },
      "source": [
        "def get_mean_scores(d):\n",
        "    return [(name, np.mean(value)) for name, value in d.items()]"
      ],
      "execution_count": 22,
      "outputs": []
    },
    {
      "cell_type": "code",
      "metadata": {
        "id": "QUy2j_YGC43S"
      },
      "source": [
        "accuracy_mean = get_mean_scores(accuracy_scores)\n",
        "precision_mean = get_mean_scores(precision_scores)\n",
        "recall_mean = get_mean_scores(recall_scores)\n",
        "f1_mean = get_mean_scores(f1_scores)"
      ],
      "execution_count": 23,
      "outputs": []
    },
    {
      "cell_type": "code",
      "metadata": {
        "id": "uFk1nOG-DAPD"
      },
      "source": [
        "\n",
        "from matplotlib import pyplot as plt"
      ],
      "execution_count": 24,
      "outputs": []
    },
    {
      "cell_type": "code",
      "metadata": {
        "id": "PnULcc4zHSmd",
        "outputId": "c6370d16-6b1c-42b4-ac75-a405826c2be5",
        "colab": {
          "base_uri": "https://localhost:8080/",
          "height": 525
        }
      },
      "source": [
        "fig, axes = plt.subplots(2,2)\n",
        "fig.set_size_inches(12, 8)\n",
        "axes = axes.flatten()\n",
        "for ax, t, title in zip(axes, [accuracy_mean, precision_mean, recall_mean, f1_mean],\n",
        "                 ['accuracy', 'precision', 'recall', 'f1']):\n",
        "    ax.pie(range(len(names)), [mean for _, mean in t])\n",
        "    ax.set_title(title)\n"
      ],
      "execution_count": 27,
      "outputs": [
        {
          "output_type": "display_data",
          "data": {
            "image/png": "[encoded data removed]",
            "text/plain": [
              "<Figure size 864x576 with 4 Axes>"
            ]
          },
          "metadata": {
            "tags": []
          }
        }
      ]
    },
    {
      "cell_type": "code",
      "metadata": {
        "id": "PYMmhw0hI8qF"
      },
      "source": [
        "def print_mean_scores(t, scoring_name):\n",
        "    for name, score in t:\n",
        "        print(name, 'mean', scoring_name, 'score is', score)"
      ],
      "execution_count": 28,
      "outputs": []
    },
    {
      "cell_type": "code",
      "metadata": {
        "id": "0l_QKgPQJCFi",
        "outputId": "2177de0b-29fe-4da6-b9cc-b6ca227d7f75",
        "colab": {
          "base_uri": "https://localhost:8080/"
        }
      },
      "source": [
        "for t, name in zip([accuracy_mean, precision_mean, recall_mean, f1_mean], \n",
        "                   ['accuracy', 'precision', 'recall', 'f1']):\n",
        "    print_mean_scores(t, name)\n",
        "    print('+'*79)"
      ],
      "execution_count": 29,
      "outputs": [
        {
          "output_type": "stream",
          "text": [
            "nb mean accuracy score is 0.798486409155937\n",
            "svc mean accuracy score is 0.7534344982628245\n",
            "knn mean accuracy score is 0.5855332107091764\n",
            "dt mean accuracy score is 0.6374461475577354\n",
            "rf mean accuracy score is 0.733271408134069\n",
            "xgb mean accuracy score is 0.6696202738606172\n",
            "+++++++++++++++++++++++++++++++++++++++++++++++++++++++++++++++++++++++++++++++\n",
            "nb mean precision score is 0.8024684155514825\n",
            "svc mean precision score is 0.7588481422866838\n",
            "knn mean precision score is 0.5978716457601168\n",
            "dt mean precision score is 0.6483826380320934\n",
            "rf mean precision score is 0.7392204169942053\n",
            "xgb mean precision score is 0.6699047142038436\n",
            "+++++++++++++++++++++++++++++++++++++++++++++++++++++++++++++++++++++++++++++++\n",
            "nb mean recall score is 0.8069103992571959\n",
            "svc mean recall score is 0.7635043330238317\n",
            "knn mean recall score is 0.5926671309192201\n",
            "dt mean recall score is 0.6433116682141751\n",
            "rf mean recall score is 0.7434842154131849\n",
            "xgb mean recall score is 0.7098204890126897\n",
            "+++++++++++++++++++++++++++++++++++++++++++++++++++++++++++++++++++++++++++++++\n",
            "nb mean f1 score is 0.8044093179789737\n",
            "svc mean f1 score is 0.7609447028499072\n",
            "knn mean f1 score is 0.5951657658999098\n",
            "dt mean f1 score is 0.6457074853811486\n",
            "rf mean f1 score is 0.7411534284403398\n",
            "xgb mean f1 score is 0.6882563041892695\n",
            "+++++++++++++++++++++++++++++++++++++++++++++++++++++++++++++++++++++++++++++++\n"
          ],
          "name": "stdout"
        }
      ]
    },
    {
      "cell_type": "code",
      "metadata": {
        "id": "m6jRKr9HJGL7",
        "outputId": "0d670439-4adb-4580-cd19-61b8d07be148",
        "colab": {
          "base_uri": "https://localhost:8080/"
        }
      },
      "source": [
        "clf = Pipeline([('vect', CountVectorizer()), ('nb', MultinomialNB())])\n",
        "clf.fit(train_X, train_y)\n",
        "predictions = clf.predict(test_X)\n",
        "print('Test accuracy score is: {}'.format(accuracy_score(test_y, predictions)))\n",
        "print('Test precision score is: {}'.format(precision_score(test_y, predictions)))\n",
        "print('Test recall score is: {}'.format(recall_score(test_y, predictions)))\n",
        "print('Test F1 score is: {}'.format(f1_score(test_y, predictions)))"
      ],
      "execution_count": 30,
      "outputs": [
        {
          "output_type": "stream",
          "text": [
            "Test accuracy score is: 0.8078902229845626\n",
            "Test precision score is: 0.829050279329609\n",
            "Test recall score is: 0.8021621621621622\n",
            "Test F1 score is: 0.8153846153846154\n"
          ],
          "name": "stdout"
        }
      ]
    }
  ]
}