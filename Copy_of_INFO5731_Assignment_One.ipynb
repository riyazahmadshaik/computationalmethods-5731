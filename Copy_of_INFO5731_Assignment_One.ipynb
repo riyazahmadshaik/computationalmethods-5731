{
  "nbformat": 4,
  "nbformat_minor": 0,
  "metadata": {
    "colab": {
      "name": "Copy of INFO5731_Assignment_One.ipynb",
      "provenance": [],
      "collapsed_sections": [],
      "include_colab_link": true
    },
    "kernelspec": {
      "name": "python3",
      "display_name": "Python 3"
    }
  },
  "cells": [
    {
      "cell_type": "markdown",
      "metadata": {
        "id": "view-in-github",
        "colab_type": "text"
      },
      "source": [
        "<a href=\"https://colab.research.google.com/github/riyazahmadshaik/computationalmethods-5731/blob/master/Copy_of_INFO5731_Assignment_One.ipynb\" target=\"_parent\"><img src=\"https://colab.research.google.com/assets/colab-badge.svg\" alt=\"Open In Colab\"/></a>"
      ]
    },
    {
      "cell_type": "markdown",
      "metadata": {
        "id": "Ryk8D1Q4Wsrp",
        "colab_type": "text"
      },
      "source": [
        "# **INFO5731 Assignment One**"
      ]
    },
    {
      "cell_type": "markdown",
      "metadata": {
        "id": "90_NR8c5XGWc",
        "colab_type": "text"
      },
      "source": [
        "# Question 1\n",
        "\n",
        "(20 points). Write a Python program to generate 12 random numbers between 1 and 100. Sort the list of numbers in ascending order and print it out. Sort the list of numbers in descending order and print it out. Calculate the average for the group and print it out."
      ]
    },
    {
      "cell_type": "code",
      "metadata": {
        "id": "5QX6bJjGWXY9",
        "colab_type": "code",
        "colab": {
          "base_uri": "https://localhost:8080/",
          "height": 85
        },
        "outputId": "1d944db1-0ab1-4d91-b493-a4f92079112b"
      },
      "source": [
        "# Your code here\n",
        "import random\n",
        "checklist = random.sample(range(1,100),12)\n",
        "print (\"Unsorted checklist in :\", checklist)\n",
        "checklist.sort()\n",
        "print (\"Sorted checklist in ascending order is:\", checklist)\n",
        "checklist.sort(reverse=True)\n",
        "print (\"Sorted checklist in descending order is:\", checklist)\n",
        "#r = sum(checklist)/len(checklist)\n",
        "print (\"Average of checklist is:\", r)"
      ],
      "execution_count": null,
      "outputs": [
        {
          "output_type": "stream",
          "text": [
            "Unsorted checklist in : [18, 45, 84, 69, 16, 86, 73, 2, 24, 31, 60, 90]\n",
            "Sorted checklist in ascending order is: [2, 16, 18, 24, 31, 45, 60, 69, 73, 84, 86, 90]\n",
            "Sorted checklist in descending order is: [90, 86, 84, 73, 69, 60, 45, 31, 24, 18, 16, 2]\n",
            "Average of checklist is: 60.5\n"
          ],
          "name": "stdout"
        }
      ]
    },
    {
      "cell_type": "markdown",
      "metadata": {
        "id": "1F_PZdH9Sh49",
        "colab_type": "text"
      },
      "source": [
        "# Question 2\n",
        "(25 points). Write a program that will do the following string formatting tasks:\n",
        "\n",
        "(1) Ask the user to enter two sentences.\n",
        "\n",
        "(2) Make each sentence into a list. Each element in the list should correspond to a word in the sentence. For example, if the sentence is \"Alas! Am I alive? This is my first python program\", the program should print out ['Alas, '!', 'Am', 'I', 'alive, '?', 'This', 'is', 'my', 'first', 'python', 'program'].\n",
        "\n",
        "(3) Compare the two sentences. Print out a list of words that occur in both sentences.\n",
        "\n",
        "(4) Remove any punctuation from the sentence and print it back out. It should remove at least the following characters, but it can remove more: period(“.”), comma (“,”), semicolon (“;”), and colon (“:”)\n",
        "\n",
        "(5) Count the number of vowels in the sentences. Print out each vowel and the number of times it appears in the sentences, such as: a:2, e:1, i:0, etc"
      ]
    },
    {
      "cell_type": "code",
      "metadata": {
        "id": "Y0oOSlsOS0cq",
        "colab_type": "code",
        "colab": {
          "base_uri": "https://localhost:8080/",
          "height": 357
        },
        "outputId": "9bb321aa-8a20-4ae4-e377-5420fecc7974"
      },
      "source": [
        "# Your code here\n",
        "\n",
        "import string\n",
        "import re\n",
        "\n",
        "def reference(r):\n",
        "  punctuation = \"'.!?,;:%^&\\'\"\n",
        "  for z in r:\n",
        "    if z in punctuation:\n",
        "      r=r.replace(z,\" \")\n",
        "  return(r)\n",
        "\n",
        "vowel = \"AEIOUaeiou\"\n",
        "Input_1 = input(\"Please enter the first string for evaluation: \\n\")\n",
        "a = re.findall(r\"[\\w']+|['.!?,;:%^&\\']\", Input_1)\n",
        "print(a)\n",
        "print(\"\\n\")\n",
        "Input_2 = input(\"Please enter the second string for evaluation: \\n\")\n",
        "b = re.findall(r\"[\\w']+|['.!?,;:%^&\\']\", Input_2)\n",
        "print(b)\n",
        "print(\"\\n\")\n",
        "print(\"On removing reference punctuations:\")\n",
        "c = reference(Input_1)\n",
        "d = c.split()\n",
        "print(d)\n",
        "e = reference(Input_2)\n",
        "f = e.split()\n",
        "print(f)\n",
        "print(\"\\n\")\n",
        "g = d + f\n",
        "print(\"List of all words from both sentences are:\")\n",
        "print(g)\n",
        "complete = Input_1 + Input_2\n",
        "sum = {}.fromkeys(vowel,0)\n",
        "for char in complete:\n",
        "  if char in sum:\n",
        "    sum[char] += 1\n",
        "print(\"\\nThe sum of vowels are:\")\n",
        "print(sum)"
      ],
      "execution_count": null,
      "outputs": [
        {
          "output_type": "stream",
          "text": [
            "Please enter the first string for evaluation: \n",
            "riyaz!!!!!!!!Ahmnad!!!!!Shaik!\n",
            "['riyaz', '!', '!', '!', '!', '!', '!', '!', '!', 'Ahmnad', '!', '!', '!', '!', '!', 'Shaik', '!']\n",
            "\n",
            "\n",
            "Please enter the second string for evaluation: \n",
            "Xomputational!!!Keys!!Concept!!!\n",
            "['Xomputational', '!', '!', '!', 'Keys', '!', '!', 'Concept', '!', '!', '!']\n",
            "\n",
            "\n",
            "On removing reference punctuations:\n",
            "['riyaz', 'Ahmnad', 'Shaik']\n",
            "['Xomputational', 'Keys', 'Concept']\n",
            "\n",
            "\n",
            "List of all words from both sentences are:\n",
            "['riyaz', 'Ahmnad', 'Shaik', 'Xomputational', 'Keys', 'Concept']\n",
            "\n",
            "The sum of vowels are:\n",
            "{'A': 1, 'E': 0, 'I': 0, 'O': 0, 'U': 0, 'a': 5, 'e': 2, 'i': 3, 'o': 3, 'u': 1}\n"
          ],
          "name": "stdout"
        }
      ]
    },
    {
      "cell_type": "markdown",
      "metadata": {
        "id": "CmFoI4jDS9nx",
        "colab_type": "text"
      },
      "source": [
        "# Question 3 \n",
        "\n",
        "(15 points). The formula that describes the volume V of a sphere with radius r is the following:\n",
        "\n",
        "$ V=\\frac{4}{3}\\ast\\ \\pi\\ast\\ r^3 $\n",
        "\n",
        "Write a program to calculate the value of V when r is in the range of 1–10. Output the result in the following format:\n",
        "\n",
        "\tr\tV\n",
        "\t1\t…\n",
        "\t2\t…\n",
        "\t3\t…\n"
      ]
    },
    {
      "cell_type": "code",
      "metadata": {
        "id": "pEyqeioAT95b",
        "colab_type": "code",
        "colab": {
          "base_uri": "https://localhost:8080/",
          "height": 323
        },
        "outputId": "5146face-e18f-4cdf-e6a5-3af7285b4775"
      },
      "source": [
        "# Your code here\n",
        "\n",
        "import string\n",
        "import re\n",
        "import math as m\n",
        "\n",
        "def format(table):\n",
        "  out=\"\"\n",
        "  for item in head[0]:\n",
        "    out += \"\" + str(item) + \" \"\n",
        "  out += \"\\n--------------------\"\n",
        "  return out\n",
        "\n",
        "radius = [item for item in range(1,11)]\n",
        "print(radius)\n",
        "\n",
        "V = [((4/3)*(m.pi)*r*r*r) for r in radius]\n",
        "print(V)\n",
        "print(\"\\n\")\n",
        "\n",
        "head = [['r','V'],[]]\n",
        "table = [radius,V]\n",
        "print(\"The volume of the given radius are:\\n\");\n",
        "print(format(head))\n",
        "for a,b in zip(*table):\n",
        "  print(a,b)"
      ],
      "execution_count": null,
      "outputs": [
        {
          "output_type": "stream",
          "text": [
            "[1, 2, 3, 4, 5, 6, 7, 8, 9, 10]\n",
            "[4.1887902047863905, 33.510321638291124, 113.09733552923255, 268.082573106329, 523.5987755982989, 904.7786842338604, 1436.755040241732, 2144.660584850632, 3053.628059289279, 4188.790204786391]\n",
            "\n",
            "\n",
            "The volume of the given radius are:\n",
            "\n",
            "r V \n",
            "--------------------\n",
            "1 4.1887902047863905\n",
            "2 33.510321638291124\n",
            "3 113.09733552923255\n",
            "4 268.082573106329\n",
            "5 523.5987755982989\n",
            "6 904.7786842338604\n",
            "7 1436.755040241732\n",
            "8 2144.660584850632\n",
            "9 3053.628059289279\n",
            "10 4188.790204786391\n"
          ],
          "name": "stdout"
        }
      ]
    },
    {
      "cell_type": "code",
      "metadata": {
        "id": "pMCr3l8tnu0j",
        "colab_type": "code",
        "colab": {}
      },
      "source": [
        ""
      ],
      "execution_count": null,
      "outputs": []
    },
    {
      "cell_type": "markdown",
      "metadata": {
        "id": "z3tBE7E-Xn5X",
        "colab_type": "text"
      },
      "source": [
        "# Question 4\n",
        "\n",
        "(40 points). In the field of Data Science, data is often formatted as a comma-delimited (CSV) file, where each line in a file corresponds to a field's value. Refer to Chapter 9 (p. 106) for more information on comma-delimited files. To answer this question, you will need to download the file [Assignment1_denton_housing.csv](https://github.com/unt-iialab/INFO5731_FALL2020/blob/master/Assignments/Assignment1_denton_housing.csv) included with this assignment. The [file Assignment1_denton_housing.csv](https://github.com/unt-iialab/INFO5731_FALL2020/blob/master/Assignments/Assignment1_denton_housing.csv) contains statistics about housing in the city of Denton from 2008 to 2014. Write a program to implement the following questions.\n",
        "\n",
        "(1) (10 pts) Calculate the difference in the number of Occupied Housing Units from year to year and print it. The difference must be calculated for the consecutive years such as 2008-2009, 2009-2010 etc. Finally, print the values in the ascending order.\n",
        "\n",
        "(2) (10 pts) For all the years, calculate the percentage of housing units which are vacant an occupied. Print the results in the following format:\n",
        "\n",
        "Year Vacant Housing Units Occupied Housing Units\n",
        "\n",
        "    2008  30%   70%                          \n",
        "\t2009 ----- -----\n",
        "\t2010 ----- -----\n",
        "    2011 ----- -----\n",
        "\t2012 ----- -----\n",
        "    2013 ----- -----\n",
        "\t2014 ----- -----\n",
        "  \n",
        "  \n",
        "\n",
        "(3) (10 pts) Calculate and print the valued and years in which the highest number of housing units were vacant and occupied. Print the results in the following format:  \n",
        "\n",
        "                              Year\tValue\n",
        "\tVacant Housing Units\t  -----   -----\n",
        "\tOccupied Housing Units\t-----   -----\n",
        "\n",
        "(4) (10 pts) Calculate the harmonic mean of the total housing units and print it out. You can find the information about harmonic mean here: https://ncalculators.com/statistics/harmonic-mean-calculator.htm"
      ]
    },
    {
      "cell_type": "code",
      "metadata": {
        "id": "lqGYuHBhcsRH",
        "colab_type": "code",
        "colab": {
          "resources": {
            "http://localhost:8080/nbextensions/google.colab/files.js": {
              "data": "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",
              "ok": true,
              "headers": [
                [
                  "content-type",
                  "application/javascript"
                ]
              ],
              "status": 200,
              "status_text": ""
            }
          },
          "base_uri": "https://localhost:8080/",
          "height": 1000
        },
        "outputId": "46ed8b6c-386c-448b-ae2d-fbc85e53845d"
      },
      "source": [
        "# Your code here\n",
        "\n",
        "\n",
        "import pandas as pand\n",
        "import io\n",
        "from google.colab import files\n",
        "uploaded = files.upload()\n",
        "bf = pand.read_csv(\"Assignment1_denton_housing.csv\")\n",
        "a = bf.loc[bf['title_field'] == 'Occupied Housing Units']\n",
        "a = a.sort_values('year')\n",
        "print(\"Occupied housing office from 2008 to 2014  is:\")\n",
        "print(a)\n",
        "d = a[['value']]\n",
        "d = d.diff(periods=1, axis = 0)\n",
        "print(\"\\nThe difference between two consecutive years is:\")\n",
        "print(d)\n",
        "print(\"\\nThe difference between two consecutive years in ascending order is: \")\n",
        "d.sort_values('value')\n",
        "#For all the years to print in format year, vacant % and occupied %\n",
        "arrr = ['Occupied Housing Units', 'Vacant Housing Units', 'Total Housing Units']\n",
        "maindf = bf.loc[bf['title_field'].isin(arrr)]\n",
        "occupied = bf.loc[bf['title_field'] == 'Occupied Housing Units']\n",
        "vacant = bf.loc[bf['title_field'] == 'Vacant Housing Units']\n",
        "total = bf.loc[bf['title_field'] == 'Total Housing Units']\n",
        "year = occupied[['year']]\n",
        "year.index = range(7)\n",
        "list1 = occupied.values.tolist()\n",
        "list2 = vacant.values.tolist()\n",
        "list3 = total.values.tolist()\n",
        "list4 = []\n",
        "list5 = []\n",
        "\n",
        "for i in range(0,7):\n",
        "  occupied_percent = (list1[i][2]/list3[i][2])*100\n",
        "  vacant_percent = (list2[i][2]/list3[i][2])*100\n",
        "  list4.append(occupied_percent)\n",
        "  list5.append(vacant_percent)\n",
        "df1 = pand.DataFrame(list4, columns=[\"Occupied %\"])\n",
        "df2 = pand.DataFrame(list5, columns=[\"Vacant %\"])\n",
        "df3 = pand.concat([df2,df1], axis = 1)\n",
        "new = pand.concat([year,df3], axis = 1)\n",
        "new = new.sort_values('year')\n",
        "print(new)\n",
        "\n",
        "#To calculate and and print in format title_field, year and value.\n",
        "occupied = bf.loc[bf['title_field'] == 'Occupied Housing Units']\n",
        "vacant = bf.loc[bf['title_field'] == 'Vacant Housing Units']\n",
        "print(occupied)\n",
        "print(\"\\n\",vacant)\n",
        "x = vacant.sort_values('value', ascending = False)\n",
        "a1 = x.iloc[0].values.tolist()\n",
        "a1[0], a1[1] = a1[1],a1[0]\n",
        "y = occupied.sort_values('value', ascending = False)\n",
        "a2 = y.iloc[0].values.tolist()\n",
        "a2[0], a2[1] = a2[1],a2[0]\n",
        "a3 = [a1,a2]\n",
        "new_df = pand.DataFrame(columns=['title_field','year','value'], data=a3)\n",
        "print(\"\\n\",new_df)\n",
        "\n",
        "#To calculate the harmonic mean of the total housing units and to print it\n",
        "!pip install scipy\n",
        "p = bf.loc[bf['title_field'] == 'Total Housing Units']\n",
        "print(\"\\n\",p)\n",
        "from scipy import stats\n",
        "print(\"\\nThe harmonic mean of the Total Housing Units is:\")\n",
        "stats.hmean(p.iloc[:,2],axis = 0)"
      ],
      "execution_count": null,
      "outputs": [
        {
          "output_type": "display_data",
          "data": {
            "text/html": [
              "\n",
              "     <input type=\"file\" id=\"files-2626f953-c95e-4749-9a89-75159c8c020e\" name=\"files[]\" multiple disabled\n",
              "        style=\"border:none\" />\n",
              "     <output id=\"result-2626f953-c95e-4749-9a89-75159c8c020e\">\n",
              "      Upload widget is only available when the cell has been executed in the\n",
              "      current browser session. Please rerun this cell to enable.\n",
              "      </output>\n",
              "      <script src=\"/nbextensions/google.colab/files.js\"></script> "
            ],
            "text/plain": [
              "<IPython.core.display.HTML object>"
            ]
          },
          "metadata": {
            "tags": []
          }
        },
        {
          "output_type": "stream",
          "text": [
            "Saving Assignment1_denton_housing.csv to Assignment1_denton_housing (5).csv\n",
            "Occupied housing office from 2008 to 2014  is:\n",
            "    year             title_field  value\n",
            "20  2008  Occupied Housing Units  36711\n",
            "17  2009  Occupied Housing Units  35916\n",
            "14  2010  Occupied Housing Units  41007\n",
            "11  2011  Occupied Housing Units  40704\n",
            "8   2012  Occupied Housing Units  42108\n",
            "5   2013  Occupied Housing Units  43673\n",
            "2   2014  Occupied Housing Units  46295\n",
            "\n",
            "The difference between two consecutive years is:\n",
            "     value\n",
            "20     NaN\n",
            "17  -795.0\n",
            "14  5091.0\n",
            "11  -303.0\n",
            "8   1404.0\n",
            "5   1565.0\n",
            "2   2622.0\n",
            "\n",
            "The difference between two consecutive years in ascending order is: \n",
            "   year   Vacant %  Occupied %\n",
            "6  2008  10.882653   89.117347\n",
            "5  2009   9.071116   90.928884\n",
            "4  2010   8.142556   91.857444\n",
            "3  2011   9.379522   90.620478\n",
            "2  2012   6.677600   93.322400\n",
            "1  2013   8.801788   91.198212\n",
            "0  2014   5.730111   94.269889\n",
            "    year             title_field  value\n",
            "2   2014  Occupied Housing Units  46295\n",
            "5   2013  Occupied Housing Units  43673\n",
            "8   2012  Occupied Housing Units  42108\n",
            "11  2011  Occupied Housing Units  40704\n",
            "14  2010  Occupied Housing Units  41007\n",
            "17  2009  Occupied Housing Units  35916\n",
            "20  2008  Occupied Housing Units  36711\n",
            "\n",
            "     year           title_field  value\n",
            "1   2014  Vacant Housing Units   2814\n",
            "4   2013  Vacant Housing Units   4215\n",
            "7   2012  Vacant Housing Units   3013\n",
            "10  2011  Vacant Housing Units   4213\n",
            "13  2010  Vacant Housing Units   3635\n",
            "16  2009  Vacant Housing Units   3583\n",
            "19  2008  Vacant Housing Units   4483\n",
            "\n",
            "               title_field  year  value\n",
            "0    Vacant Housing Units  2008   4483\n",
            "1  Occupied Housing Units  2014  46295\n",
            "Requirement already satisfied: scipy in /usr/local/lib/python3.6/dist-packages (1.4.1)\n",
            "Requirement already satisfied: numpy>=1.13.3 in /usr/local/lib/python3.6/dist-packages (from scipy) (1.18.5)\n",
            "\n",
            "     year          title_field  value\n",
            "0   2014  Total Housing Units  49109\n",
            "3   2013  Total Housing Units  47888\n",
            "6   2012  Total Housing Units  45121\n",
            "9   2011  Total Housing Units  44917\n",
            "12  2010  Total Housing Units  44642\n",
            "15  2009  Total Housing Units  39499\n",
            "18  2008  Total Housing Units  41194\n",
            "\n",
            "The harmonic mean of the Total Housing Units is:\n"
          ],
          "name": "stdout"
        },
        {
          "output_type": "execute_result",
          "data": {
            "text/plain": [
              "44398.28543969185"
            ]
          },
          "metadata": {
            "tags": []
          },
          "execution_count": 31
        }
      ]
    }
  ]
}